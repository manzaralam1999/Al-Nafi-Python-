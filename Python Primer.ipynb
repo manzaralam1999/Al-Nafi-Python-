{
 "cells": [
  {
   "cell_type": "markdown",
   "metadata": {},
   "source": [
    "# Python Primer"
   ]
  },
  {
   "cell_type": "markdown",
   "metadata": {},
   "source": [
    "## Python Primer 100"
   ]
  },
  {
   "cell_type": "code",
   "execution_count": 1,
   "metadata": {},
   "outputs": [
    {
     "name": "stdout",
     "output_type": "stream",
     "text": [
      "605\n"
     ]
    }
   ],
   "source": [
    "# DMAS\n",
    "\n",
    "print(5 + 30 * 20 )"
   ]
  },
  {
   "cell_type": "code",
   "execution_count": 2,
   "metadata": {},
   "outputs": [
    {
     "name": "stdout",
     "output_type": "stream",
     "text": [
      "700\n"
     ]
    }
   ],
   "source": [
    "# BODMAS\n",
    "\n",
    "print((5 + 30) * 20 )"
   ]
  },
  {
   "cell_type": "code",
   "execution_count": 1,
   "metadata": {},
   "outputs": [
    {
     "name": "stdout",
     "output_type": "stream",
     "text": [
      "100\n"
     ]
    }
   ],
   "source": [
    "# Varible\n",
    "\n",
    "Manzar = 100\n",
    "print(Manzar)"
   ]
  },
  {
   "cell_type": "code",
   "execution_count": 2,
   "metadata": {},
   "outputs": [
    {
     "name": "stdout",
     "output_type": "stream",
     "text": [
      "40\n"
     ]
    }
   ],
   "source": [
    "# Adding value assigning Variable\n",
    "\n",
    "manzar_coins=20\n",
    "hashim_coins=10\n",
    "sarfraz_coins=10\n",
    "\n",
    "print(manzar_coins+hashim_coins+sarfraz_coins)"
   ]
  },
  {
   "cell_type": "markdown",
   "metadata": {},
   "source": [
    "## Python Primer 101"
   ]
  },
  {
   "cell_type": "code",
   "execution_count": 6,
   "metadata": {},
   "outputs": [
    {
     "name": "stdout",
     "output_type": "stream",
     "text": [
      "first Righteous caliph!!\n"
     ]
    }
   ],
   "source": [
    "# String based variable\n",
    "\n",
    "abubakr = \"first Righteous caliph!!\"\n",
    "print(abubakr)"
   ]
  },
  {
   "cell_type": "code",
   "execution_count": 7,
   "metadata": {},
   "outputs": [
    {
     "name": "stdout",
     "output_type": "stream",
     "text": [
      "He said, \"Aren't can't shouldn't wouldn't.\"\n"
     ]
    }
   ],
   "source": [
    "# Silly Strings\n",
    "\n",
    "silly_string = '''He said, \"Aren't can't shouldn't wouldn't.\"'''\n",
    "print(silly_string)"
   ]
  },
  {
   "cell_type": "code",
   "execution_count": 8,
   "metadata": {},
   "outputs": [
    {
     "name": "stdout",
     "output_type": "stream",
     "text": [
      "He said, \"Aren't can't shouldn't wouldn't.\"\n"
     ]
    }
   ],
   "source": [
    "# Single quote string\n",
    "\n",
    "single_quote_str = 'He said, \"Aren\\'t can\\'t shouldn\\'t wouldn\\'t.\"'\n",
    "print (single_quote_str)"
   ]
  },
  {
   "cell_type": "code",
   "execution_count": 9,
   "metadata": {},
   "outputs": [
    {
     "name": "stdout",
     "output_type": "stream",
     "text": [
      "He said, \"Aren't can't shouldn't wouldn't.\"\n",
      "He said, \"Aren't can't shouldn't wouldn't.\"\n"
     ]
    }
   ],
   "source": [
    "# Single and double quote strings\n",
    "\n",
    "single_quote_str = 'He said, \"Aren\\'t can\\'t shouldn\\'t wouldn\\'t.\"'\n",
    "print (single_quote_str)\n",
    "\n",
    "double_quote_str = \"He said, \\\"Aren't can't shouldn't wouldn't.\\\"\"\n",
    "print (double_quote_str)"
   ]
  },
  {
   "cell_type": "code",
   "execution_count": 10,
   "metadata": {},
   "outputs": [
    {
     "name": "stdout",
     "output_type": "stream",
     "text": [
      "I scored 1000 points\n"
     ]
    }
   ],
   "source": [
    "# %s\n",
    "\n",
    "myscore = 1000\n",
    "message = 'I scored %s points'\n",
    "print(message % myscore)"
   ]
  },
  {
   "cell_type": "code",
   "execution_count": 11,
   "metadata": {},
   "outputs": [
    {
     "name": "stdout",
     "output_type": "stream",
     "text": [
      "What did the number 0 say to the number 8? Nice belt!!\n"
     ]
    }
   ],
   "source": [
    "# Value assigning through %s\n",
    "\n",
    "nums = 'What did the number %s say to the number %s? Nice belt!!'\n",
    "print(nums % (0, 8))"
   ]
  },
  {
   "cell_type": "code",
   "execution_count": 12,
   "metadata": {},
   "outputs": [
    {
     "name": "stdout",
     "output_type": "stream",
     "text": [
      "aaaaaaaaaa\n"
     ]
    }
   ],
   "source": [
    "# String and integer multiplication\n",
    "\n",
    "print(10 * 'a')"
   ]
  },
  {
   "cell_type": "code",
   "execution_count": 14,
   "metadata": {},
   "outputs": [
    {
     "name": "stdout",
     "output_type": "stream",
     "text": [
      "                          12 DHA Phase 5\n",
      "                          Clifton\n",
      "                          West Snoring\n",
      "\n",
      "\n",
      "Dear Sir\n",
      "\n",
      "I wish to report that tiles are missing from the\n",
      "outside toilet roof.\n",
      "I think it was bad wind the other night that blew them away.\n",
      "\n",
      "Regards\n",
      "Manzar\n"
     ]
    }
   ],
   "source": [
    "# Application\n",
    "\n",
    "spaces = ' ' * 25\n",
    "print('%s 12 DHA Phase 5' % spaces)\n",
    "print('%s Clifton' % spaces)\n",
    "print('%s West Snoring' % spaces)\n",
    "print()\n",
    "print()\n",
    "print('Dear Sir')\n",
    "print()\n",
    "print('I wish to report that tiles are missing from the')\n",
    "print('outside toilet roof.')\n",
    "print('I think it was bad wind the other night that blew them away.')\n",
    "print()\n",
    "print('Regards')\n",
    "print('Manzar')"
   ]
  },
  {
   "cell_type": "code",
   "execution_count": 19,
   "metadata": {},
   "outputs": [
    {
     "name": "stdout",
     "output_type": "stream",
     "text": [
      "Karachi Karachi Karachi Karachi Karachi Karachi Karachi Karachi Karachi Karachi Karachi Karachi Karachi Karachi Karachi Karachi Karachi Karachi Karachi Karachi Karachi Karachi Karachi Karachi Karachi Karachi Karachi Karachi Karachi Karachi Karachi Karachi Karachi Karachi Karachi Karachi Karachi Karachi Karachi Karachi Karachi Karachi Karachi Karachi Karachi Karachi Karachi Karachi Karachi Karachi Karachi Karachi Karachi Karachi Karachi Karachi Karachi Karachi Karachi Karachi Karachi Karachi Karachi Karachi Karachi Karachi Karachi Karachi Karachi Karachi Karachi Karachi Karachi Karachi Karachi Karachi Karachi Karachi Karachi Karachi Karachi Karachi Karachi Karachi Karachi Karachi Karachi Karachi Karachi Karachi Karachi Karachi Karachi Karachi Karachi Karachi \n"
     ]
    }
   ],
   "source": [
    "# Fun stuff\n",
    "\n",
    "print(96 * 'Karachi ')"
   ]
  },
  {
   "cell_type": "code",
   "execution_count": 20,
   "metadata": {},
   "outputs": [
    {
     "name": "stdout",
     "output_type": "stream",
     "text": [
      "sabzee, fruit, aloo, chai\n"
     ]
    }
   ],
   "source": [
    "# List\n",
    "\n",
    "manzar_list='sabzee, fruit, aloo, chai'\n",
    "print(manzar_list)"
   ]
  },
  {
   "cell_type": "code",
   "execution_count": 21,
   "metadata": {},
   "outputs": [
    {
     "name": "stdout",
     "output_type": "stream",
     "text": [
      "aloo\n"
     ]
    }
   ],
   "source": [
    "# Print desired string through index number\n",
    "\n",
    "manzar_list=['sabzee', 'fruit', 'aloo', 'chai']\n",
    "print(manzar_list[2])"
   ]
  },
  {
   "cell_type": "code",
   "execution_count": 22,
   "metadata": {},
   "outputs": [
    {
     "name": "stdout",
     "output_type": "stream",
     "text": [
      "['sabzee', 'fruit', 'aloo']\n"
     ]
    }
   ],
   "source": [
    "# Slicing in string\n",
    "\n",
    "manzar_list=['sabzee', 'fruit', 'aloo', 'chai']\n",
    "print(manzar_list[0:3])"
   ]
  },
  {
   "cell_type": "code",
   "execution_count": 3,
   "metadata": {},
   "outputs": [
    {
     "name": "stdout",
     "output_type": "stream",
     "text": [
      "['Why', 'was', 6, 'afraid', 'of', 7, 'because', 7, 8, 9]\n"
     ]
    }
   ],
   "source": [
    "# List can be consists of integers and strings\n",
    "\n",
    "numbers_and_strings = ['Why', 'was', 6, 'afraid', 'of', 7, 'because', 7, 8, 9]\n",
    "print(numbers_and_strings) "
   ]
  },
  {
   "cell_type": "code",
   "execution_count": 6,
   "metadata": {},
   "outputs": [
    {
     "name": "stdout",
     "output_type": "stream",
     "text": [
      "[[1, 2, 3, 4], ['My', 'Name', 'Is', 'Manzar']]\n"
     ]
    }
   ],
   "source": [
    "# List within a list\n",
    "\n",
    "numbers = [1, 2, 3, 4]\n",
    "strings = ['My', 'Name', 'Is', 'Manzar']\n",
    "my_list = [numbers, strings]\n",
    "print(my_list)"
   ]
  },
  {
   "cell_type": "code",
   "execution_count": 7,
   "metadata": {},
   "outputs": [
    {
     "name": "stdout",
     "output_type": "stream",
     "text": [
      "['My', 'Name', 'Is', 'Manzar']\n",
      "['My', 'Name', 'Is', 'Manzar', 'Alam']\n"
     ]
    }
   ],
   "source": [
    "# Adding items to a list\n",
    "\n",
    "my_name = ['My', 'Name', 'Is', 'Manzar']\n",
    "print(my_name)\n",
    "\n",
    "my_name.append('Alam')\n",
    "print(my_name)"
   ]
  },
  {
   "cell_type": "code",
   "execution_count": 8,
   "metadata": {},
   "outputs": [
    {
     "name": "stdout",
     "output_type": "stream",
     "text": [
      "['My', 'Name', 'Is', 'Manzar', 'Alam']\n",
      "['My', 'Name', 'Is', 'Manzar']\n"
     ]
    }
   ],
   "source": [
    "# Remove items from the list\n",
    "\n",
    "my_name = ['My', 'Name', 'Is', 'Manzar', 'Alam']\n",
    "print(my_name)\n",
    "\n",
    "del my_name[4]\n",
    "print(my_name)"
   ]
  },
  {
   "cell_type": "code",
   "execution_count": 9,
   "metadata": {},
   "outputs": [
    {
     "name": "stdout",
     "output_type": "stream",
     "text": [
      "[1, 2, 3, 4, 'I', 'ate', 'chocolate', 'and', 'I', 'want', 'more']\n"
     ]
    }
   ],
   "source": [
    "# List Arithmetic\n",
    "\n",
    "list_1 = [1, 2, 3, 4]\n",
    "list_2 = ['I', 'ate', 'chocolate', 'and', 'I', 'want', 'more']\n",
    "list_3 = list_1 + list_2\n",
    "print(list_3)"
   ]
  },
  {
   "cell_type": "code",
   "execution_count": 10,
   "metadata": {},
   "outputs": [
    {
     "name": "stdout",
     "output_type": "stream",
     "text": [
      "[1, 2, 1, 2, 1, 2, 1, 2, 1, 2]\n"
     ]
    }
   ],
   "source": [
    "# We can use only Add and Multiply operations on the list\n",
    "# If we use Subraction and Divide operations on the list then it will be an error\n",
    "\n",
    "list_1 = [1, 2]\n",
    "num = 5\n",
    "\n",
    "print(list_1 * num)"
   ]
  },
  {
   "cell_type": "code",
   "execution_count": 12,
   "metadata": {},
   "outputs": [
    {
     "name": "stdout",
     "output_type": "stream",
     "text": [
      "3\n"
     ]
    }
   ],
   "source": [
    "# A tuple is like a list that uses parentheses\n",
    "# tuple values can never be changed\n",
    "\n",
    "tuple_1 = (1, 2, 3, 4, 5)\n",
    "print(tuple_1[2])"
   ]
  },
  {
   "cell_type": "code",
   "execution_count": 13,
   "metadata": {},
   "outputs": [
    {
     "name": "stdout",
     "output_type": "stream",
     "text": [
      "['Ali, Football', 'Omer, Basketball', 'Osman, Baseball', 'Abu Bkar, Netball', 'Fatima, Badminton', 'Faizan, Rugby']\n"
     ]
    }
   ],
   "source": [
    "# Creating maps in Python\n",
    "\n",
    "favorite_sports = ['Ali, Football', 'Omer, Basketball', 'Osman, Baseball', 'Abu Bkar, Netball', 'Fatima, Badminton', 'Faizan, Rugby']\n",
    "print (favorite_sports)"
   ]
  },
  {
   "cell_type": "code",
   "execution_count": 14,
   "metadata": {},
   "outputs": [
    {
     "name": "stdout",
     "output_type": "stream",
     "text": [
      "{'Ali': 'Football', 'Omer': 'Basketball', 'Osman': 'Baseball', 'Abu Bakr': 'Netball', 'Fatima': 'Badminton', 'Faizan': 'Rugby'}\n"
     ]
    }
   ],
   "source": [
    "# Modifying a value in a map\n",
    "\n",
    "favorite_sports = {'Ali' : 'Football', \n",
    "                   'Omer' : 'Basketball', \n",
    "                   'Osman' : 'Baseball', \n",
    "                   'Abu Bakr' : 'Netball', \n",
    "                   'Fatima' : 'Badminton', \n",
    "                   'Faizan' : 'Rugby'}\n",
    "print (favorite_sports)"
   ]
  },
  {
   "cell_type": "code",
   "execution_count": 15,
   "metadata": {},
   "outputs": [
    {
     "name": "stdout",
     "output_type": "stream",
     "text": [
      "Football\n"
     ]
    }
   ],
   "source": [
    "# Print desired value\n",
    "\n",
    "favorite_sports = {'Ali' : 'Football', \n",
    "                   'Omer' : 'Basketball', \n",
    "                   'Osman' : 'Baseball', \n",
    "                   'Abu Bakr' : 'Netball', \n",
    "                   'Fatima' : 'Badminton', \n",
    "                   'Faizan' : 'Rugby'}\n",
    "print (favorite_sports['Ali'])"
   ]
  },
  {
   "cell_type": "code",
   "execution_count": 16,
   "metadata": {},
   "outputs": [
    {
     "name": "stdout",
     "output_type": "stream",
     "text": [
      "{'Omer': 'Basketball', 'Osman': 'Baseball', 'Abu Bakr': 'Netball', 'Fatima': 'Badminton', 'Faizan': 'Rugby'}\n"
     ]
    }
   ],
   "source": [
    "# Deleting a value in the map\n",
    "\n",
    "favorite_sports = {'Ali' : 'Football', \n",
    "                   'Omer' : 'Basketball', \n",
    "                   'Osman' : 'Baseball', \n",
    "                   'Abu Bakr' : 'Netball', \n",
    "                   'Fatima' : 'Badminton', \n",
    "                   'Faizan' : 'Rugby'}\n",
    "del favorite_sports['Ali']\n",
    "\n",
    "print(favorite_sports)"
   ]
  },
  {
   "cell_type": "code",
   "execution_count": 18,
   "metadata": {},
   "outputs": [
    {
     "name": "stdout",
     "output_type": "stream",
     "text": [
      "{'Ali': 'Football', 'Omer': 'Basketball', 'Osman': 'Cricket', 'Abu Bakr': 'Netball', 'Fatima': 'Badminton', 'Faizan': 'Rugby'}\n"
     ]
    }
   ],
   "source": [
    "# Replacing a value in a map\n",
    "# We can't join maps with the add operator\n",
    "\n",
    "favorite_sports = {'Ali' : 'Football', \n",
    "                   'Omer' : 'Basketball', \n",
    "                   'Osman' : 'Baseball', \n",
    "                   'Abu Bakr' : 'Netball', \n",
    "                   'Fatima' : 'Badminton', \n",
    "                   'Faizan' : 'Rugby'}\n",
    "\n",
    "favorite_sports['Osman'] = 'Cricket'\n",
    "\n",
    "print(favorite_sports)"
   ]
  },
  {
   "cell_type": "markdown",
   "metadata": {},
   "source": [
    "## Python Primer 102a"
   ]
  },
  {
   "cell_type": "code",
   "execution_count": 20,
   "metadata": {},
   "outputs": [
    {
     "name": "stdout",
     "output_type": "stream",
     "text": [
      "You are too old!\n",
      "Why are you here?\n",
      "Why aren't you mowing a lawn or sorting papers?\n"
     ]
    }
   ],
   "source": [
    "# If statements\n",
    "\n",
    "age = 20\n",
    "\n",
    "if age > 19:\n",
    "\n",
    "    print('You are too old!')\n",
    "    print('Why are you here?')\n",
    "    print('Why aren\\'t you mowing a lawn or sorting papers?')"
   ]
  },
  {
   "cell_type": "markdown",
   "metadata": {},
   "source": [
    "## Python Primer 102b"
   ]
  },
  {
   "cell_type": "code",
   "execution_count": 21,
   "metadata": {},
   "outputs": [
    {
     "name": "stdout",
     "output_type": "stream",
     "text": [
      "Want to hear a dirty joke?\n",
      "Shh. It's a secret.\n"
     ]
    }
   ],
   "source": [
    "# If and else Statements\n",
    "\n",
    "print(\"Want to hear a dirty joke?\")\n",
    "\n",
    "age = 10\n",
    "if age == 12:\n",
    "    print(\"A pig fell in the mud!\")\n",
    "    \n",
    "else: \n",
    "    print(\"Shh. It's a secret.\")"
   ]
  },
  {
   "cell_type": "code",
   "execution_count": 22,
   "metadata": {},
   "outputs": [
    {
     "name": "stdout",
     "output_type": "stream",
     "text": [
      "Want to hear a dirty joke?\n",
      "A pig fell in the mud!\n"
     ]
    }
   ],
   "source": [
    "# If and else Statements\n",
    "\n",
    "print(\"Want to hear a dirty joke?\")\n",
    "\n",
    "age = 12\n",
    "if age == 12:\n",
    "    print(\"A pig fell in the mud!\")\n",
    "    \n",
    "else: \n",
    "    print(\"Shh. It's a secret.\")"
   ]
  },
  {
   "cell_type": "markdown",
   "metadata": {},
   "source": [
    "## Python Primer 102c"
   ]
  },
  {
   "cell_type": "code",
   "execution_count": 23,
   "metadata": {},
   "outputs": [
    {
     "name": "stdout",
     "output_type": "stream",
     "text": [
      "What did 0 say to 8?\n",
      "Hi guys!\n"
     ]
    }
   ],
   "source": [
    "# if and elif (elseif) Statements\n",
    "\n",
    "age = 12\n",
    "\n",
    "if age == 10:\n",
    "    print(\"What do you call an unhappy cranberry?\")\n",
    "    print(\"A blueberry!\")\n",
    "\n",
    "elif age == 11:\n",
    "    print(\"What did the green grape say to the blue grape?\")\n",
    "    print(\"Breathe! Breathe!\")\n",
    "\n",
    "elif age == 12:\n",
    "    print(\"What did 0 say to 8?\")\n",
    "    print(\"Hi guys!\")\n",
    "\n",
    "elif age == 13:\n",
    "    print(\"Why wasn't 10 afraid of 7?\")\n",
    "    print(\"Because rather than eating 9, 7 8 pi.\")\n",
    "\n",
    "else:\n",
    "    print(\"Huh?\")"
   ]
  },
  {
   "cell_type": "code",
   "execution_count": 24,
   "metadata": {},
   "outputs": [
    {
     "name": "stdout",
     "output_type": "stream",
     "text": [
      "What do you call an unhappy cranberry?\n",
      "A blueberry!\n"
     ]
    }
   ],
   "source": [
    "# if and elif (elseif) Statements\n",
    "\n",
    "age = 10\n",
    "\n",
    "if age == 10:\n",
    "    print(\"What do you call an unhappy cranberry?\")\n",
    "    print(\"A blueberry!\")\n",
    "\n",
    "elif age == 11:\n",
    "    print(\"What did the green grape say to the blue grape?\")\n",
    "    print(\"Breathe! Breathe!\")\n",
    "\n",
    "elif age == 12:\n",
    "    print(\"What did 0 say to 8?\")\n",
    "    print(\"Hi guys!\")\n",
    "\n",
    "elif age == 13:\n",
    "    print(\"Why wasn't 10 afraid of 7?\")\n",
    "    print(\"Because rather than eating 9, 7 8 pi.\")\n",
    "\n",
    "else:\n",
    "    print(\"Huh?\")"
   ]
  },
  {
   "cell_type": "code",
   "execution_count": 25,
   "metadata": {},
   "outputs": [
    {
     "name": "stdout",
     "output_type": "stream",
     "text": [
      "Huh?\n"
     ]
    }
   ],
   "source": [
    "# if and elif (elseif) Statements\n",
    "\n",
    "age = 9\n",
    "\n",
    "if age == 10:\n",
    "    print(\"What do you call an unhappy cranberry?\")\n",
    "    print(\"A blueberry!\")\n",
    "\n",
    "elif age == 11:\n",
    "    print(\"What did the green grape say to the blue grape?\")\n",
    "    print(\"Breathe! Breathe!\")\n",
    "\n",
    "elif age == 12:\n",
    "    print(\"What did 0 say to 8?\")\n",
    "    print(\"Hi guys!\")\n",
    "\n",
    "elif age == 13:\n",
    "    print(\"Why wasn't 10 afraid of 7?\")\n",
    "    print(\"Because rather than eating 9, 7 8 pi.\")\n",
    "\n",
    "else:\n",
    "    print(\"Huh?\")"
   ]
  },
  {
   "cell_type": "code",
   "execution_count": 26,
   "metadata": {},
   "outputs": [
    {
     "name": "stdout",
     "output_type": "stream",
     "text": [
      "What is 13 + 49 + 84 + 155 + 97? A headache!\n"
     ]
    }
   ],
   "source": [
    "# Combining functions\n",
    "\n",
    "age=10\n",
    "\n",
    "if age == 10 or age == 11 or age == 12 or age == 13:\n",
    "\n",
    "    print('What is 13 + 49 + 84 + 155 + 97? A headache!')\n",
    "\n",
    "else: \n",
    "    print('Huh?')"
   ]
  },
  {
   "cell_type": "code",
   "execution_count": 27,
   "metadata": {},
   "outputs": [
    {
     "name": "stdout",
     "output_type": "stream",
     "text": [
      "Huh?\n"
     ]
    }
   ],
   "source": [
    "# Combining functions\n",
    "\n",
    "age = 14\n",
    "\n",
    "if age == 10 or age == 11 or age == 12 or age == 13:\n",
    "\n",
    "    print('What is 13 + 49 + 84 + 155 + 97? A headache!')\n",
    "\n",
    "else: \n",
    "    print('Huh?')"
   ]
  },
  {
   "cell_type": "code",
   "execution_count": 28,
   "metadata": {},
   "outputs": [
    {
     "name": "stdout",
     "output_type": "stream",
     "text": [
      "What is 13 + 49 + 84 + 155 + 97? A headache!\n"
     ]
    }
   ],
   "source": [
    "# Using greater than or equal-to operator (>=) and less-than-equal-to operator(<=)\n",
    "\n",
    "age=10\n",
    "\n",
    "if age >= 10 and age <= 13:\n",
    "    print('What is 13 + 49 + 84 + 155 + 97? A headache!')\n",
    "\n",
    "else: \n",
    "    print('Huh?')"
   ]
  },
  {
   "cell_type": "code",
   "execution_count": 29,
   "metadata": {},
   "outputs": [
    {
     "name": "stdout",
     "output_type": "stream",
     "text": [
      "Huh?\n"
     ]
    }
   ],
   "source": [
    "# Using greater than or equal-to operator (>=) and less-than-equal-to operator(<=)\n",
    "\n",
    "age=14\n",
    "\n",
    "if age >= 10 and age <= 13:\n",
    "    print('What is 13 + 49 + 84 + 155 + 97? A headache!')\n",
    "\n",
    "else: \n",
    "    print('Huh?')"
   ]
  },
  {
   "cell_type": "code",
   "execution_count": 30,
   "metadata": {},
   "outputs": [
    {
     "name": "stdout",
     "output_type": "stream",
     "text": [
      "The variable myval doesn't have a value\n"
     ]
    }
   ],
   "source": [
    "# Non variable example\n",
    "\n",
    "myval = None\n",
    "\n",
    "if myval == None:\n",
    "    print(\"The variable myval doesn't have a value\")\n",
    "    \n",
    "# This is useful when you only want to calculate a value for a variable if it hasn’t already been calculated."
   ]
  },
  {
   "cell_type": "markdown",
   "metadata": {},
   "source": [
    "## Python Primer 102d"
   ]
  },
  {
   "cell_type": "code",
   "execution_count": 31,
   "metadata": {},
   "outputs": [
    {
     "name": "stdout",
     "output_type": "stream",
     "text": [
      "10\n"
     ]
    }
   ],
   "source": [
    "# String into a number using int\n",
    "\n",
    "age = '10'\n",
    "converted_age = int(age)\n",
    "\n",
    "print(converted_age)"
   ]
  },
  {
   "cell_type": "code",
   "execution_count": 32,
   "metadata": {},
   "outputs": [
    {
     "name": "stdout",
     "output_type": "stream",
     "text": [
      "10\n"
     ]
    }
   ],
   "source": [
    "# Number into a string using str\n",
    "\n",
    "age = 10 \n",
    "converted_age = str(age)\n",
    "\n",
    "print(converted_age)"
   ]
  },
  {
   "cell_type": "code",
   "execution_count": 33,
   "metadata": {},
   "outputs": [
    {
     "name": "stdout",
     "output_type": "stream",
     "text": [
      "What's the best way to speak to a monster?\n",
      "From as far away as possible!\n"
     ]
    }
   ],
   "source": [
    "# If statement\n",
    "\n",
    "age = '10'\n",
    "converted_age = int(age)\n",
    "\n",
    "if converted_age == 10:\n",
    "    print(\"What's the best way to speak to a monster?\")\n",
    "    print(\"From as far away as possible!\")"
   ]
  },
  {
   "cell_type": "code",
   "execution_count": 35,
   "metadata": {},
   "outputs": [
    {
     "name": "stdout",
     "output_type": "stream",
     "text": [
      "What's the best way to speak to a monster?\n",
      "From as far away as possible!\n"
     ]
    }
   ],
   "source": [
    "# For decimal numbers use float\n",
    "\n",
    "age = '10.5'\n",
    "converted_age = float(age)\n",
    "\n",
    "if converted_age == 10.5:\n",
    "    print(\"What's the best way to speak to a monster?\") \n",
    "    print(\"From as far away as possible!\")"
   ]
  },
  {
   "cell_type": "markdown",
   "metadata": {},
   "source": [
    "## Python Primer 103"
   ]
  },
  {
   "cell_type": "code",
   "execution_count": 36,
   "metadata": {},
   "outputs": [
    {
     "name": "stdout",
     "output_type": "stream",
     "text": [
      "salam\n",
      "salam\n",
      "salam\n",
      "salam\n",
      "salam\n"
     ]
    }
   ],
   "source": [
    "# for loop\n",
    "\n",
    "for x in range(0, 5): \n",
    "    print('salam')"
   ]
  },
  {
   "cell_type": "code",
   "execution_count": 37,
   "metadata": {},
   "outputs": [
    {
     "name": "stdout",
     "output_type": "stream",
     "text": [
      "[10, 11, 12, 13, 14, 15, 16, 17, 18, 19]\n"
     ]
    }
   ],
   "source": [
    "# Using range and list together\n",
    "\n",
    "print(list(range(10, 20)))"
   ]
  },
  {
   "cell_type": "code",
   "execution_count": 38,
   "metadata": {},
   "outputs": [
    {
     "name": "stdout",
     "output_type": "stream",
     "text": [
      "salam 0\n",
      "salam 1\n",
      "salam 2\n",
      "salam 3\n",
      "salam 4\n"
     ]
    }
   ],
   "source": [
    "# Printing with range numbers\n",
    "\n",
    "for x in range(0, 5):\n",
    "    print('salam %s' %x)"
   ]
  },
  {
   "cell_type": "code",
   "execution_count": 39,
   "metadata": {},
   "outputs": [
    {
     "name": "stdout",
     "output_type": "stream",
     "text": [
      "salam 0\n",
      "salam 1\n",
      "salam 2\n",
      "salam 3\n",
      "salam 4\n"
     ]
    }
   ],
   "source": [
    "# If we remove for loop then it will be very long code\n",
    "\n",
    "x = 0\n",
    "print('salam %s' % x)\n",
    "x = 1\n",
    "print('salam %s' % x)\n",
    "x = 2\n",
    "print('salam %s' % x)\n",
    "x = 3 \n",
    "print('salam %s' % x)\n",
    "x = 4 \n",
    "print('salam %s' % x)"
   ]
  },
  {
   "cell_type": "code",
   "execution_count": 40,
   "metadata": {},
   "outputs": [
    {
     "name": "stdout",
     "output_type": "stream",
     "text": [
      "spider legs\n",
      "toe of frog\n",
      "snail tongue\n",
      "bat wing\n",
      "slug butter\n",
      "bear burp\n"
     ]
    }
   ],
   "source": [
    "# Not using range and list\n",
    "\n",
    "wizard_list = ['spider legs','toe of frog', 'snail tongue', 'bat wing', 'slug butter', 'bear burp']\n",
    "\n",
    "for i in wizard_list: \n",
    "    print(i)"
   ]
  },
  {
   "cell_type": "code",
   "execution_count": 41,
   "metadata": {},
   "outputs": [
    {
     "name": "stdout",
     "output_type": "stream",
     "text": [
      "spider legs\n",
      "toe of frog\n",
      "snail tongue\n",
      "bat wing\n",
      "slug butter\n",
      "bear burp\n"
     ]
    }
   ],
   "source": [
    "# Without the loop we have a long code\n",
    "\n",
    "wizard_list = ['spider legs', 'toe of frog', 'snail tongue', 'bat wing', 'slug butter', 'bear burp'] \n",
    "print(wizard_list[0]) \n",
    "print(wizard_list[1]) \n",
    "print(wizard_list[2]) \n",
    "print(wizard_list[3]) \n",
    "print(wizard_list[4]) \n",
    "print(wizard_list[5])"
   ]
  },
  {
   "cell_type": "code",
   "execution_count": 42,
   "metadata": {},
   "outputs": [
    {
     "name": "stdout",
     "output_type": "stream",
     "text": [
      "huge\n",
      "huge\n",
      "hairy\n",
      "hairy\n",
      "pants\n",
      "pants\n"
     ]
    }
   ],
   "source": [
    "# Printing Twice\n",
    "\n",
    "hugehairypants = ['huge', 'hairy', 'pants'] \n",
    "\n",
    "for i in hugehairypants: \n",
    "    print(i) \n",
    "    print(i)"
   ]
  },
  {
   "cell_type": "code",
   "execution_count": 43,
   "metadata": {},
   "outputs": [
    {
     "name": "stdout",
     "output_type": "stream",
     "text": [
      "huge\n",
      "huge\n",
      "hairy\n",
      "pants\n",
      "hairy\n",
      "huge\n",
      "hairy\n",
      "pants\n",
      "pants\n",
      "huge\n",
      "hairy\n",
      "pants\n"
     ]
    }
   ],
   "source": [
    "# Gaps or spaces needs to be consistent\n",
    "\n",
    "hugehairypants = ['huge', 'hairy', 'pants'] \n",
    "\n",
    "for i in hugehairypants: \n",
    "    print(i) \n",
    "    \n",
    "    for j in hugehairypants: \n",
    "        print(j)"
   ]
  },
  {
   "cell_type": "code",
   "execution_count": 44,
   "metadata": {},
   "outputs": [
    {
     "name": "stdout",
     "output_type": "stream",
     "text": [
      "46 81\n",
      "47 82\n",
      "48 83\n",
      "49 84\n",
      "50 85\n"
     ]
    }
   ],
   "source": [
    "# whileloop is a loop that is used when you don’t know ahead of time when it needs to stop looping\n",
    "\n",
    "x = 45 \n",
    "y = 80 \n",
    "while x < 50 and y < 100: \n",
    "    x = x + 1 \n",
    "    y = y + 1 \n",
    "    print(x, y)"
   ]
  },
  {
   "cell_type": "markdown",
   "metadata": {},
   "source": [
    "## Python Primer 104"
   ]
  },
  {
   "cell_type": "code",
   "execution_count": 46,
   "metadata": {},
   "outputs": [
    {
     "name": "stdout",
     "output_type": "stream",
     "text": [
      "[0, 1, 2, 3, 4, 5, 6, 7, 8, 9]\n"
     ]
    }
   ],
   "source": [
    "# Using list and range\n",
    "\n",
    "print(list(range(0, 10)))"
   ]
  },
  {
   "cell_type": "code",
   "execution_count": 51,
   "metadata": {},
   "outputs": [
    {
     "name": "stdout",
     "output_type": "stream",
     "text": [
      "hello Manzar\n"
     ]
    }
   ],
   "source": [
    "# Parts of Functions\n",
    "\n",
    "testfunc('Manzar')\n",
    "def testfunc(myname):\n",
    "    print('hello %s' % myname)"
   ]
  },
  {
   "cell_type": "code",
   "execution_count": 83,
   "metadata": {},
   "outputs": [
    {
     "name": "stdout",
     "output_type": "stream",
     "text": [
      "200\n"
     ]
    }
   ],
   "source": [
    "# Using return\n",
    "\n",
    "def variable_test (): \n",
    "    first_variable = 10 \n",
    "    second_variable = 20 \n",
    "    return first_variable * second_variable \n",
    "print(variable_test())"
   ]
  },
  {
   "cell_type": "code",
   "execution_count": 84,
   "metadata": {},
   "outputs": [
    {
     "name": "stdout",
     "output_type": "stream",
     "text": [
      "20000\n"
     ]
    }
   ],
   "source": [
    "# Variable Outside the functions\n",
    "\n",
    "another_variable = 100 \n",
    "def variable_test2(): \n",
    "    first_variable = 10 \n",
    "    second_variable = 20 \n",
    "    return first_variable * second_variable * another_variable\n",
    "print(variable_test2())"
   ]
  },
  {
   "cell_type": "code",
   "execution_count": 85,
   "metadata": {},
   "outputs": [
    {
     "name": "stdout",
     "output_type": "stream",
     "text": [
      "Sat Feb  8 16:15:17 2020\n"
     ]
    }
   ],
   "source": [
    "# Modules in Python\n",
    "\n",
    "import time \n",
    "print(time.asctime())"
   ]
  },
  {
   "cell_type": "markdown",
   "metadata": {},
   "source": [
    "## Python Primer 105"
   ]
  },
  {
   "cell_type": "code",
   "execution_count": 93,
   "metadata": {},
   "outputs": [
    {
     "name": "stdout",
     "output_type": "stream",
     "text": [
      "I am a normal function\n"
     ]
    }
   ],
   "source": [
    "# Defining functions of Classes\n",
    "# Functions are a way to reuse code\n",
    "\n",
    "def this_is_a_normal_function(): \n",
    "    print('I am a normal function')\n",
    "class ThisIsMySillyClass: \n",
    "    def this_is_a_class_function(): \n",
    "        print('I am a class function') \n",
    "    def this_is_also_a_class_function(): \n",
    "        print('I am also a class function. See?')\n",
    "        \n",
    "this_is_a_normal_function()"
   ]
  },
  {
   "cell_type": "markdown",
   "metadata": {},
   "source": [
    "## Python Primer 106"
   ]
  },
  {
   "cell_type": "code",
   "execution_count": 95,
   "metadata": {},
   "outputs": [
    {
     "name": "stdout",
     "output_type": "stream",
     "text": [
      "Absolute value of -20 is: 20\n",
      "Absolute value of -30.33 is: 30.33\n"
     ]
    }
   ],
   "source": [
    "# Python Build-in functions\n",
    "# abs(Build-in function) example\n",
    "\n",
    "integer = -20 \n",
    "print('Absolute value of -20 is:', abs(integer))\n",
    "\n",
    "floating = -30.33 \n",
    "print('Absolute value of -30.33 is:', abs(floating))"
   ]
  },
  {
   "cell_type": "code",
   "execution_count": 97,
   "metadata": {},
   "outputs": [
    {
     "name": "stdout",
     "output_type": "stream",
     "text": [
      "[] is False\n",
      "[0] is True\n",
      "0.0 is False\n",
      "None is False\n",
      "True is True\n",
      "Easy string is True\n"
     ]
    }
   ],
   "source": [
    "# Python bool() examples\n",
    "\n",
    "test = [] \n",
    "print(test,'is',bool(test))\n",
    "test = [0] \n",
    "print(test,'is',bool(test))\n",
    "test = 0.0 \n",
    "print(test,'is',bool(test))\n",
    "test = None \n",
    "print(test,'is',bool(test))\n",
    "test = True \n",
    "print(test,'is',bool(test))\n",
    "test = 'Easy string' \n",
    "print(test,'is',bool(test))"
   ]
  },
  {
   "cell_type": "code",
   "execution_count": 98,
   "metadata": {},
   "outputs": [
    {
     "name": "stdout",
     "output_type": "stream",
     "text": [
      "['__add__', '__class__', '__contains__', '__delattr__', '__delitem__', '__dir__', '__doc__', '__eq__', '__format__', '__ge__', '__getattribute__', '__getitem__', '__gt__', '__hash__', '__iadd__', '__imul__', '__init__', '__init_subclass__', '__iter__', '__le__', '__len__', '__lt__', '__mul__', '__ne__', '__new__', '__reduce__', '__reduce_ex__', '__repr__', '__reversed__', '__rmul__', '__setattr__', '__setitem__', '__sizeof__', '__str__', '__subclasshook__', 'append', 'clear', 'copy', 'count', 'extend', 'index', 'insert', 'pop', 'remove', 'reverse', 'sort']\n",
      "\n",
      "Return Value from empty dir()\n",
      "['Animals', 'Animate', 'Giraffes', 'In', 'Inanimate', 'Mammals', 'Manzar', 'Out', 'Sidewalks', 'Things', 'ThisIsMySillyClass', '_', '__', '___', '__builtin__', '__builtins__', '__doc__', '__loader__', '__name__', '__package__', '__spec__', '_dh', '_i', '_i1', '_i10', '_i11', '_i12', '_i13', '_i14', '_i15', '_i16', '_i17', '_i18', '_i19', '_i2', '_i20', '_i21', '_i22', '_i23', '_i24', '_i25', '_i26', '_i27', '_i28', '_i29', '_i3', '_i30', '_i31', '_i32', '_i33', '_i34', '_i35', '_i36', '_i37', '_i38', '_i39', '_i4', '_i40', '_i41', '_i42', '_i43', '_i44', '_i45', '_i46', '_i47', '_i48', '_i49', '_i5', '_i50', '_i51', '_i52', '_i53', '_i54', '_i55', '_i56', '_i57', '_i58', '_i59', '_i6', '_i60', '_i61', '_i62', '_i63', '_i64', '_i65', '_i66', '_i67', '_i68', '_i69', '_i7', '_i70', '_i71', '_i72', '_i73', '_i74', '_i75', '_i76', '_i77', '_i78', '_i79', '_i8', '_i80', '_i81', '_i82', '_i83', '_i84', '_i85', '_i86', '_i87', '_i88', '_i89', '_i9', '_i90', '_i91', '_i92', '_i93', '_i94', '_i95', '_i96', '_i97', '_i98', '_ih', '_ii', '_iii', '_oh', 'age', 'another_variable', 'converted_age', 'exit', 'favorite_sports', 'firstname', 'floating', 'get_ipython', 'hashim_coins', 'hugehairypants', 'i', 'integer', 'j', 'lastname', 'list_1', 'list_2', 'list_3', 'manzar_coins', 'my_list', 'my_name', 'myval', 'num', 'number', 'numbers', 'numbers_and_strings', 'quit', 'sarfraz_coins', 'strings', 'test', 'testfun', 'testfunc', 'testfunc_1', 'this_is_a_normal_function', 'time', 'tuple_1', 'variable_test', 'variable_test2', 'wizard_list', 'x', 'y']\n"
     ]
    }
   ],
   "source": [
    "# Working of dir() functions\n",
    "\n",
    "number = [1, 2, 3] \n",
    "print(dir(number))\n",
    "print('\\nReturn Value from empty dir()') \n",
    "print(dir())"
   ]
  },
  {
   "cell_type": "code",
   "execution_count": null,
   "metadata": {},
   "outputs": [],
   "source": []
  }
 ],
 "metadata": {
  "kernelspec": {
   "display_name": "Python 3",
   "language": "python",
   "name": "python3"
  },
  "language_info": {
   "codemirror_mode": {
    "name": "ipython",
    "version": 3
   },
   "file_extension": ".py",
   "mimetype": "text/x-python",
   "name": "python",
   "nbconvert_exporter": "python",
   "pygments_lexer": "ipython3",
   "version": "3.7.4"
  }
 },
 "nbformat": 4,
 "nbformat_minor": 2
}
