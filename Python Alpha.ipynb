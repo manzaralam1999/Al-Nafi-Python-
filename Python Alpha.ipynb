{
 "cells": [
  {
   "cell_type": "markdown",
   "metadata": {},
   "source": [
    "# Python Alpha"
   ]
  },
  {
   "cell_type": "markdown",
   "metadata": {},
   "source": [
    "## Python Alpha 000"
   ]
  },
  {
   "cell_type": "markdown",
   "metadata": {},
   "source": [
    "## Python Alpha 100"
   ]
  },
  {
   "cell_type": "markdown",
   "metadata": {},
   "source": [
    "## Python Alpha 101a"
   ]
  },
  {
   "cell_type": "code",
   "execution_count": 1,
   "metadata": {},
   "outputs": [
    {
     "name": "stdout",
     "output_type": "stream",
     "text": [
      "I am a Python Programmer\n"
     ]
    }
   ],
   "source": [
    "# String\n",
    "\n",
    "my_string = \"I am a Python Programmer\"\n",
    "print(my_string)"
   ]
  },
  {
   "cell_type": "code",
   "execution_count": 3,
   "metadata": {},
   "outputs": [
    {
     "name": "stdout",
     "output_type": "stream",
     "text": [
      "Welcome to Python!\n",
      "The bright red fox jumped the fence.\n",
      "This is a multi-line string. It covers more than one line\n"
     ]
    }
   ],
   "source": [
    "# Examples Of String\n",
    "\n",
    "my_string = \"Welcome to Python!\"\n",
    "another_string = 'The bright red fox jumped the fence.'\n",
    "a_long_string = '''This is a multi-line string. It covers more than one line'''\n",
    "\n",
    "print(my_string)\n",
    "print(another_string)\n",
    "print(a_long_string)"
   ]
  },
  {
   "cell_type": "code",
   "execution_count": 5,
   "metadata": {},
   "outputs": [
    {
     "name": "stdout",
     "output_type": "stream",
     "text": [
      "I'm a Python programmer!\n",
      "The word \"python\" usually refers to a snake\n",
      "Here's another way to embed \"quotes\" in a string\n"
     ]
    }
   ],
   "source": [
    "# More Examples of String\n",
    "\n",
    "my_string = \"I'm a Python programmer!\"\n",
    "other_string = 'The word \"python\" usually refers to a snake'\n",
    "triple_string = \"\"\"Here's another way to embed \"quotes\" in a string\"\"\"\n",
    "\n",
    "print(my_string)\n",
    "print(other_string)\n",
    "print(triple_string)"
   ]
  },
  {
   "cell_type": "code",
   "execution_count": 2,
   "metadata": {},
   "outputs": [
    {
     "data": {
      "text/plain": [
       "1670318272624"
      ]
     },
     "execution_count": 2,
     "metadata": {},
     "output_type": "execute_result"
    }
   ],
   "source": [
    "# string id\n",
    "\n",
    "my_string = \"Manzar\"\n",
    "id(my_string)"
   ]
  },
  {
   "cell_type": "code",
   "execution_count": 3,
   "metadata": {},
   "outputs": [
    {
     "data": {
      "text/plain": [
       "1670318306224"
      ]
     },
     "execution_count": 3,
     "metadata": {},
     "output_type": "execute_result"
    }
   ],
   "source": [
    "# string id\n",
    "\n",
    "my_string = \"Alam\"\n",
    "id(my_string)"
   ]
  },
  {
   "cell_type": "code",
   "execution_count": 5,
   "metadata": {},
   "outputs": [
    {
     "name": "stdout",
     "output_type": "stream",
     "text": [
      "Manzar Is A Python Programmer\n"
     ]
    }
   ],
   "source": [
    "# Concatination Strings\n",
    "\n",
    "one_string = \"Manzar Is A\"\n",
    "two_string = \"Python Programmer\"\n",
    "third_string = one_string + \" \" + two_string\n",
    "\n",
    "print(third_string)"
   ]
  },
  {
   "cell_type": "code",
   "execution_count": 7,
   "metadata": {},
   "outputs": [
    {
     "data": {
      "text/plain": [
       "'MANZAR ALAM'"
      ]
     },
     "execution_count": 7,
     "metadata": {},
     "output_type": "execute_result"
    }
   ],
   "source": [
    "# All Alphabets of string as a capital letters\n",
    "\n",
    "my_string = \"Manzar Alam\"\n",
    "my_string.upper()"
   ]
  },
  {
   "cell_type": "code",
   "execution_count": 8,
   "metadata": {},
   "outputs": [
    {
     "data": {
      "text/plain": [
       "'manzar alam'"
      ]
     },
     "execution_count": 8,
     "metadata": {},
     "output_type": "execute_result"
    }
   ],
   "source": [
    "# All Alphabets of string as a small letters\n",
    "\n",
    "my_string = \"Manzar Alam\"\n",
    "my_string.lower()"
   ]
  },
  {
   "cell_type": "code",
   "execution_count": 9,
   "metadata": {},
   "outputs": [
    {
     "data": {
      "text/plain": [
       "['__add__',\n",
       " '__class__',\n",
       " '__contains__',\n",
       " '__delattr__',\n",
       " '__dir__',\n",
       " '__doc__',\n",
       " '__eq__',\n",
       " '__format__',\n",
       " '__ge__',\n",
       " '__getattribute__',\n",
       " '__getitem__',\n",
       " '__getnewargs__',\n",
       " '__gt__',\n",
       " '__hash__',\n",
       " '__init__',\n",
       " '__init_subclass__',\n",
       " '__iter__',\n",
       " '__le__',\n",
       " '__len__',\n",
       " '__lt__',\n",
       " '__mod__',\n",
       " '__mul__',\n",
       " '__ne__',\n",
       " '__new__',\n",
       " '__reduce__',\n",
       " '__reduce_ex__',\n",
       " '__repr__',\n",
       " '__rmod__',\n",
       " '__rmul__',\n",
       " '__setattr__',\n",
       " '__sizeof__',\n",
       " '__str__',\n",
       " '__subclasshook__',\n",
       " 'capitalize',\n",
       " 'casefold',\n",
       " 'center',\n",
       " 'count',\n",
       " 'encode',\n",
       " 'endswith',\n",
       " 'expandtabs',\n",
       " 'find',\n",
       " 'format',\n",
       " 'format_map',\n",
       " 'index',\n",
       " 'isalnum',\n",
       " 'isalpha',\n",
       " 'isascii',\n",
       " 'isdecimal',\n",
       " 'isdigit',\n",
       " 'isidentifier',\n",
       " 'islower',\n",
       " 'isnumeric',\n",
       " 'isprintable',\n",
       " 'isspace',\n",
       " 'istitle',\n",
       " 'isupper',\n",
       " 'join',\n",
       " 'ljust',\n",
       " 'lower',\n",
       " 'lstrip',\n",
       " 'maketrans',\n",
       " 'partition',\n",
       " 'replace',\n",
       " 'rfind',\n",
       " 'rindex',\n",
       " 'rjust',\n",
       " 'rpartition',\n",
       " 'rsplit',\n",
       " 'rstrip',\n",
       " 'split',\n",
       " 'splitlines',\n",
       " 'startswith',\n",
       " 'strip',\n",
       " 'swapcase',\n",
       " 'title',\n",
       " 'translate',\n",
       " 'upper',\n",
       " 'zfill']"
      ]
     },
     "execution_count": 9,
     "metadata": {},
     "output_type": "execute_result"
    }
   ],
   "source": [
    "# All the string commands\n",
    "\n",
    "dir(my_string)"
   ]
  },
  {
   "cell_type": "code",
   "execution_count": 10,
   "metadata": {},
   "outputs": [
    {
     "name": "stdout",
     "output_type": "stream",
     "text": [
      "Help on built-in function upper:\n",
      "\n",
      "upper() method of builtins.str instance\n",
      "    Return a copy of the string converted to uppercase.\n",
      "\n"
     ]
    }
   ],
   "source": [
    "# Asking for help in Python\n",
    "\n",
    "help(my_string.upper)"
   ]
  },
  {
   "cell_type": "code",
   "execution_count": 11,
   "metadata": {},
   "outputs": [
    {
     "name": "stdout",
     "output_type": "stream",
     "text": [
      "Help on built-in function lower:\n",
      "\n",
      "lower() method of builtins.str instance\n",
      "    Return a copy of the string converted to lowercase.\n",
      "\n"
     ]
    }
   ],
   "source": [
    "# Asking for help in Python\n",
    "\n",
    "help(my_string.lower)"
   ]
  },
  {
   "cell_type": "code",
   "execution_count": 12,
   "metadata": {},
   "outputs": [
    {
     "name": "stdout",
     "output_type": "stream",
     "text": [
      "Help on built-in function translate:\n",
      "\n",
      "translate(table, /) method of builtins.str instance\n",
      "    Replace each character in the string using the given translation table.\n",
      "    \n",
      "      table\n",
      "        Translation table, which must be a mapping of Unicode ordinals to\n",
      "        Unicode ordinals, strings, or None.\n",
      "    \n",
      "    The table must implement lookup/indexing via __getitem__, for instance a\n",
      "    dictionary or list.  If this operation raises LookupError, the character is\n",
      "    left untouched.  Characters mapped to None are deleted.\n",
      "\n"
     ]
    }
   ],
   "source": [
    "# Asking for help in Python\n",
    "\n",
    "help(my_string.translate)"
   ]
  },
  {
   "cell_type": "code",
   "execution_count": 13,
   "metadata": {},
   "outputs": [
    {
     "name": "stdout",
     "output_type": "stream",
     "text": [
      "Help on built-in function split:\n",
      "\n",
      "split(sep=None, maxsplit=-1) method of builtins.str instance\n",
      "    Return a list of the words in the string, using sep as the delimiter string.\n",
      "    \n",
      "    sep\n",
      "      The delimiter according which to split the string.\n",
      "      None (the default value) means split according to any whitespace,\n",
      "      and discard empty strings from the result.\n",
      "    maxsplit\n",
      "      Maximum number of splits to do.\n",
      "      -1 (the default value) means no limit.\n",
      "\n"
     ]
    }
   ],
   "source": [
    "# Asking for help in Python\n",
    "\n",
    "help(my_string.split)"
   ]
  },
  {
   "cell_type": "code",
   "execution_count": 6,
   "metadata": {},
   "outputs": [
    {
     "data": {
      "text/plain": [
       "str"
      ]
     },
     "execution_count": 6,
     "metadata": {},
     "output_type": "execute_result"
    }
   ],
   "source": [
    "# In python introspection allows us to ask Python about itself\n",
    "\n",
    "type(my_string)"
   ]
  },
  {
   "cell_type": "markdown",
   "metadata": {},
   "source": [
    "## Python Alpha 101b"
   ]
  },
  {
   "cell_type": "code",
   "execution_count": 1,
   "metadata": {},
   "outputs": [
    {
     "data": {
      "text/plain": [
       "'My Country'"
      ]
     },
     "execution_count": 1,
     "metadata": {},
     "output_type": "execute_result"
    }
   ],
   "source": [
    "# Slicing on String\n",
    "\n",
    "my_string = \"My Country Is Pakistan\"\n",
    "my_string[0:10]"
   ]
  },
  {
   "cell_type": "code",
   "execution_count": 2,
   "metadata": {},
   "outputs": [
    {
     "data": {
      "text/plain": [
       "'My Country Is Pakis'"
      ]
     },
     "execution_count": 2,
     "metadata": {},
     "output_type": "execute_result"
    }
   ],
   "source": [
    "# Slicing on String\n",
    "\n",
    "my_string = \"My Country Is Pakistan\"\n",
    "my_string[0:-3]"
   ]
  },
  {
   "cell_type": "code",
   "execution_count": 3,
   "metadata": {},
   "outputs": [
    {
     "name": "stdout",
     "output_type": "stream",
     "text": [
      "I Like Python\n"
     ]
    }
   ],
   "source": [
    "# Associating\n",
    "\n",
    "my_string = \"I Like %s\" % \"Python\"\n",
    "print(my_string)"
   ]
  },
  {
   "cell_type": "code",
   "execution_count": 4,
   "metadata": {},
   "outputs": [
    {
     "name": "stdout",
     "output_type": "stream",
     "text": [
      "I Like Python\n"
     ]
    }
   ],
   "source": [
    "# Associating\n",
    "\n",
    "Var = \"Python\"\n",
    "my_string = \"I Like %s\" % Var\n",
    "print(my_string)"
   ]
  },
  {
   "cell_type": "code",
   "execution_count": 5,
   "metadata": {},
   "outputs": [
    {
     "name": "stdout",
     "output_type": "stream",
     "text": [
      "I Like Python and HTML\n"
     ]
    }
   ],
   "source": [
    "# Associating\n",
    "\n",
    "Var = \"Python\"\n",
    "my_string = \"I Like %s and %s\" % (Var, \"HTML\")\n",
    "print(my_string)"
   ]
  },
  {
   "cell_type": "code",
   "execution_count": 6,
   "metadata": {},
   "outputs": [
    {
     "name": "stdout",
     "output_type": "stream",
     "text": [
      "1 + 2 = 3\n"
     ]
    }
   ],
   "source": [
    "# Associating\n",
    "\n",
    "my_string = \"%i + %i = %i\" % (1, 2, 3)\n",
    "print(my_string)"
   ]
  },
  {
   "cell_type": "code",
   "execution_count": 7,
   "metadata": {},
   "outputs": [
    {
     "name": "stdout",
     "output_type": "stream",
     "text": [
      "1.230000\n"
     ]
    }
   ],
   "source": [
    "# float\n",
    "\n",
    "float_string = \"%f\" % (1.23)\n",
    "print(float_string)"
   ]
  },
  {
   "cell_type": "code",
   "execution_count": 8,
   "metadata": {},
   "outputs": [
    {
     "name": "stdout",
     "output_type": "stream",
     "text": [
      "1.23\n"
     ]
    }
   ],
   "source": [
    "# upto 2 decimal place\n",
    "\n",
    "float_string = \"%.2f\" % (1.23)\n",
    "print(float_string)"
   ]
  },
  {
   "cell_type": "code",
   "execution_count": 9,
   "metadata": {},
   "outputs": [
    {
     "data": {
      "text/plain": [
       "'Python is as simple as a, b, c'"
      ]
     },
     "execution_count": 9,
     "metadata": {},
     "output_type": "execute_result"
    }
   ],
   "source": [
    "# Associating\n",
    "\n",
    "\"Python is as simple as {0}, {1}, {2}\".format(\"a\", \"b\", \"c\")"
   ]
  },
  {
   "cell_type": "code",
   "execution_count": 10,
   "metadata": {},
   "outputs": [
    {
     "name": "stdout",
     "output_type": "stream",
     "text": [
      "Graph a point at where x=0 and y=10\n"
     ]
    }
   ],
   "source": [
    "# Associating\n",
    "\n",
    "xy = {\"x\":0, \"y\":10}\n",
    "print(\"Graph a point at where x={x} and y={y}\".format(**xy))"
   ]
  },
  {
   "cell_type": "code",
   "execution_count": 7,
   "metadata": {},
   "outputs": [
    {
     "name": "stdout",
     "output_type": "stream",
     "text": [
      "Python is fun!\n"
     ]
    }
   ],
   "source": [
    "# Another way of formatting\n",
    "\n",
    "print(\"%(lang)s is fun!\" % {\"lang\":\"Python\"})"
   ]
  },
  {
   "cell_type": "code",
   "execution_count": 11,
   "metadata": {},
   "outputs": [
    {
     "name": "stdout",
     "output_type": "stream",
     "text": [
      "Manzar Manzar Manzar !\n"
     ]
    }
   ],
   "source": [
    "# More Examples with text\n",
    "\n",
    "print(\"%(value)s %(value)s %(value)s !\" % {\"value\":\"Manzar\"})"
   ]
  },
  {
   "cell_type": "code",
   "execution_count": 12,
   "metadata": {},
   "outputs": [
    {
     "name": "stdout",
     "output_type": "stream",
     "text": [
      "1 + 2 = 3\n"
     ]
    }
   ],
   "source": [
    "# More examples with number\n",
    "\n",
    "print(\"%(x)i + %(y)i = %(z)i\" % {\"x\":1, \"y\":2, \"z\":3})"
   ]
  },
  {
   "cell_type": "markdown",
   "metadata": {},
   "source": [
    "## Python Alpha 200"
   ]
  },
  {
   "cell_type": "code",
   "execution_count": 1,
   "metadata": {},
   "outputs": [
    {
     "name": "stdout",
     "output_type": "stream",
     "text": [
      "[[1, 2, 3], ['a', 'b', 'c'], [1, 'Python', 3, 'Manzar']]\n"
     ]
    }
   ],
   "source": [
    "# Nested List\n",
    "\n",
    "my_list = [1, 2, 3]\n",
    "my_list2 = [\"a\", \"b\", \"c\"]\n",
    "my_list3 = [1, \"Python\", 3, \"Manzar\"]\n",
    "\n",
    "nested_list = [my_list, my_list2, my_list3]\n",
    "\n",
    "print(nested_list)"
   ]
  },
  {
   "cell_type": "code",
   "execution_count": 8,
   "metadata": {},
   "outputs": [
    {
     "name": "stdout",
     "output_type": "stream",
     "text": [
      "[4, 5]\n"
     ]
    }
   ],
   "source": [
    "# List extend method\n",
    "\n",
    "combo_list = [] \n",
    "one_list = [4, 5] \n",
    "combo_list.extend(one_list) \n",
    "\n",
    "print(combo_list)"
   ]
  },
  {
   "cell_type": "code",
   "execution_count": 2,
   "metadata": {},
   "outputs": [
    {
     "name": "stdout",
     "output_type": "stream",
     "text": [
      "[1, 2, 3, 'a', 'b', 'c']\n"
     ]
    }
   ],
   "source": [
    "# Adding List\n",
    "\n",
    "my_list = [1, 2, 3]\n",
    "my_list2 = [\"a\", \"b\", \"c\"]\n",
    "\n",
    "combo_list = my_list + my_list2\n",
    "\n",
    "print(combo_list)"
   ]
  },
  {
   "cell_type": "code",
   "execution_count": 9,
   "metadata": {},
   "outputs": [
    {
     "name": "stdout",
     "output_type": "stream",
     "text": [
      "[2, 23, 34, 67, 88, 100]\n"
     ]
    }
   ],
   "source": [
    "# Sorting out a list\n",
    "\n",
    "alpha_list = [34, 23, 67, 100, 88, 2] \n",
    "alpha_list.sort() \n",
    "\n",
    "print(alpha_list)"
   ]
  },
  {
   "cell_type": "code",
   "execution_count": 10,
   "metadata": {},
   "outputs": [
    {
     "name": "stdout",
     "output_type": "stream",
     "text": [
      "None\n"
     ]
    }
   ],
   "source": [
    "# A none List\n",
    "\n",
    "alpha_list = [34, 23, 67, 100, 88, 2] \n",
    "sorted_list = alpha_list.sort() \n",
    "sorted_list \n",
    "\n",
    "print(sorted_list)\n",
    "\n",
    "# If we store sorted value into other variable then \"None\" will be print"
   ]
  },
  {
   "cell_type": "code",
   "execution_count": 11,
   "metadata": {},
   "outputs": [
    {
     "name": "stdout",
     "output_type": "stream",
     "text": [
      "[34, 23, 67]\n"
     ]
    }
   ],
   "source": [
    "# Slicing a List\n",
    "\n",
    "alpha_list = [34, 23, 67, 100, 88, 2] \n",
    "print(alpha_list[0:3])"
   ]
  },
  {
   "cell_type": "code",
   "execution_count": 12,
   "metadata": {},
   "outputs": [
    {
     "name": "stdout",
     "output_type": "stream",
     "text": [
      "(1, 2, 3)\n"
     ]
    }
   ],
   "source": [
    "# Tuple\n",
    "\n",
    "my_tuple=(1,2,3,4,5) \n",
    "print(my_tuple[0:3])"
   ]
  },
  {
   "cell_type": "code",
   "execution_count": 14,
   "metadata": {},
   "outputs": [
    {
     "name": "stdout",
     "output_type": "stream",
     "text": [
      "{'one': 1, 'two': 2, 'three': 3}\n"
     ]
    }
   ],
   "source": [
    "# Dictionary\n",
    "\n",
    "my_other_dict = {\"one\":1, \"two\":2, \"three\":3} \n",
    "print(my_other_dict)"
   ]
  },
  {
   "cell_type": "code",
   "execution_count": 17,
   "metadata": {},
   "outputs": [
    {
     "data": {
      "text/plain": [
       "'Manzar'"
      ]
     },
     "execution_count": 17,
     "metadata": {},
     "output_type": "execute_result"
    }
   ],
   "source": [
    "# Accessing a value within a dictionary\n",
    "\n",
    "my_dict = {\"name\":\"Manzar\", \"address\":\"123 Orangi\"} \n",
    "my_dict[\"name\"]"
   ]
  },
  {
   "cell_type": "code",
   "execution_count": 19,
   "metadata": {},
   "outputs": [
    {
     "data": {
      "text/plain": [
       "True"
      ]
     },
     "execution_count": 19,
     "metadata": {},
     "output_type": "execute_result"
    }
   ],
   "source": [
    "# Adding true and false statements \n",
    "\n",
    "\"name\" in my_dict"
   ]
  },
  {
   "cell_type": "code",
   "execution_count": 20,
   "metadata": {},
   "outputs": [
    {
     "data": {
      "text/plain": [
       "False"
      ]
     },
     "execution_count": 20,
     "metadata": {},
     "output_type": "execute_result"
    }
   ],
   "source": [
    "# Adding true and false statements\n",
    "\n",
    "\"state\" in my_dict "
   ]
  },
  {
   "cell_type": "code",
   "execution_count": 21,
   "metadata": {},
   "outputs": [
    {
     "name": "stdout",
     "output_type": "stream",
     "text": [
      "dict_keys(['name', 'address'])\n"
     ]
    }
   ],
   "source": [
    "# Checking all the keys in a dictionary\n",
    "\n",
    "my_dict = {\"name\":\"Manzar\", \"address\":\"123 Orangi\"}\n",
    "print(my_dict.keys())"
   ]
  },
  {
   "cell_type": "code",
   "execution_count": 22,
   "metadata": {},
   "outputs": [
    {
     "data": {
      "text/plain": [
       "True"
      ]
     },
     "execution_count": 22,
     "metadata": {},
     "output_type": "execute_result"
    }
   ],
   "source": [
    "# The importance of in\n",
    "\n",
    "\"name\" in my_dict # this is good \n",
    "\"name\" in my_dict.keys()  # this works too, but is slower"
   ]
  },
  {
   "cell_type": "markdown",
   "metadata": {},
   "source": [
    "## Python Alpha 300"
   ]
  },
  {
   "cell_type": "code",
   "execution_count": 23,
   "metadata": {},
   "outputs": [
    {
     "name": "stdout",
     "output_type": "stream",
     "text": [
      "This statement is True\n"
     ]
    }
   ],
   "source": [
    "# if statement\n",
    "\n",
    "if 2 > 1:\n",
    "    print(\"This statement is True\")"
   ]
  },
  {
   "cell_type": "code",
   "execution_count": 24,
   "metadata": {},
   "outputs": [
    {
     "name": "stdout",
     "output_type": "stream",
     "text": [
      "This is also True\n"
     ]
    }
   ],
   "source": [
    "# Another Example\n",
    "\n",
    "var1 = 3\n",
    "var2 = 1\n",
    "\n",
    "if var1 > var2:\n",
    "    print(\"This is also True\")"
   ]
  },
  {
   "cell_type": "code",
   "execution_count": 25,
   "metadata": {},
   "outputs": [
    {
     "name": "stdout",
     "output_type": "stream",
     "text": [
      "This is False\n"
     ]
    }
   ],
   "source": [
    "# Example With Else\n",
    "\n",
    "var1 = 3\n",
    "var2 = 1\n",
    "\n",
    "if var2 > var1:\n",
    "    print(\"This is True\")\n",
    "    \n",
    "else:\n",
    "    print(\"This is False\")"
   ]
  },
  {
   "cell_type": "code",
   "execution_count": 26,
   "metadata": {},
   "outputs": [
    {
     "name": "stdout",
     "output_type": "stream",
     "text": [
      "That's a great deal!\n"
     ]
    }
   ],
   "source": [
    "# More Examples\n",
    "\n",
    "value = 8\n",
    "\n",
    "if value < 10:\n",
    "    print(\"That's a great deal!\")\n",
    "    \n",
    "elif 10 <= value <= 20:\n",
    "    print(\"I'd still pay that...\")\n",
    "    \n",
    "else:\n",
    "    print(\"That's too much\")"
   ]
  },
  {
   "cell_type": "code",
   "execution_count": 27,
   "metadata": {},
   "outputs": [
    {
     "name": "stdout",
     "output_type": "stream",
     "text": [
      "I'd still pay that...\n"
     ]
    }
   ],
   "source": [
    "# More Examples\n",
    "\n",
    "value = 11\n",
    "\n",
    "if value < 10:\n",
    "    print(\"That's a great deal!\")\n",
    "    \n",
    "elif 10 <= value <= 20:\n",
    "    print(\"I'd still pay that...\")\n",
    "    \n",
    "else:\n",
    "    print(\"That's too much\")"
   ]
  },
  {
   "cell_type": "code",
   "execution_count": 28,
   "metadata": {},
   "outputs": [
    {
     "name": "stdout",
     "output_type": "stream",
     "text": [
      "That's too much\n"
     ]
    }
   ],
   "source": [
    "# More Examples\n",
    "\n",
    "value = 21\n",
    "\n",
    "if value < 10:\n",
    "    print(\"That's a great deal!\")\n",
    "    \n",
    "elif 10 <= value <= 20:\n",
    "    print(\"I'd still pay that...\")\n",
    "    \n",
    "else:\n",
    "    print(\"That's too much\")"
   ]
  },
  {
   "cell_type": "code",
   "execution_count": 29,
   "metadata": {},
   "outputs": [
    {
     "name": "stdout",
     "output_type": "stream",
     "text": [
      "This statement is True\n"
     ]
    }
   ],
   "source": [
    "# More Examples\n",
    "\n",
    "x = 2\n",
    "y = 20\n",
    "\n",
    "if x < 10 or y > 15:\n",
    "    print(\"This statement is True\")"
   ]
  },
  {
   "cell_type": "code",
   "execution_count": 31,
   "metadata": {},
   "outputs": [
    {
     "name": "stdout",
     "output_type": "stream",
     "text": [
      "This statement is False\n"
     ]
    }
   ],
   "source": [
    "# More Examples\n",
    "\n",
    "x = 10\n",
    "y = 20\n",
    "\n",
    "if x == 10 and y == 15:\n",
    "    print(\"This statement is True\")\n",
    "    \n",
    "else:\n",
    "    print(\"This statement is False\")"
   ]
  },
  {
   "cell_type": "code",
   "execution_count": 32,
   "metadata": {},
   "outputs": [
    {
     "name": "stdout",
     "output_type": "stream",
     "text": [
      "'x' is not in the list, so it's True\n"
     ]
    }
   ],
   "source": [
    "# Example of List\n",
    "\n",
    "my_list = [1, 2, 3, 4]\n",
    "x = 10\n",
    "if x not in my_list:\n",
    "    print(\"'x' is not in the list, so it's True\")"
   ]
  },
  {
   "cell_type": "code",
   "execution_count": 33,
   "metadata": {},
   "outputs": [
    {
     "name": "stdout",
     "output_type": "stream",
     "text": [
      "'x' is not in the list, so it's False\n"
     ]
    }
   ],
   "source": [
    "# Example of List\n",
    "\n",
    "my_list = [1, 2, 3, 4]\n",
    "x = 3\n",
    "if x not in my_list:\n",
    "    print(\"'x' is not in the list, so it's True\")\n",
    "    \n",
    "else:\n",
    "    print(\"'x' is not in the list, so it's False\")"
   ]
  },
  {
   "cell_type": "code",
   "execution_count": 35,
   "metadata": {},
   "outputs": [
    {
     "name": "stdout",
     "output_type": "stream",
     "text": [
      "'x' is not equal to 10\n"
     ]
    }
   ],
   "source": [
    "# Not equal operator\n",
    "\n",
    "x = 10\n",
    "if x != 11:\n",
    "    print(\"'x' is not equal to 10\")"
   ]
  },
  {
   "cell_type": "code",
   "execution_count": 36,
   "metadata": {},
   "outputs": [
    {
     "name": "stdout",
     "output_type": "stream",
     "text": [
      "This is True\n"
     ]
    }
   ],
   "source": [
    "# Another Example\n",
    "\n",
    "my_list = [1, 2, 3, 4]\n",
    "x = 10\n",
    "z = 11\n",
    "if x not in my_list and z != 10:\n",
    "    print(\"This is True\")"
   ]
  },
  {
   "cell_type": "code",
   "execution_count": 37,
   "metadata": {},
   "outputs": [
    {
     "name": "stdout",
     "output_type": "stream",
     "text": [
      "This is False\n"
     ]
    }
   ],
   "source": [
    "# Another Example\n",
    "\n",
    "my_list = [1, 2, 3, 4]\n",
    "x = 3\n",
    "z = 11\n",
    "if x not in my_list and z != 10:\n",
    "    print(\"This is True\")\n",
    "    \n",
    "else:\n",
    "    print(\"This is False\")"
   ]
  },
  {
   "cell_type": "code",
   "execution_count": 42,
   "metadata": {},
   "outputs": [
    {
     "name": "stdout",
     "output_type": "stream",
     "text": [
      "I have a \n",
      " new line in the middle\n"
     ]
    }
   ],
   "source": [
    "# Special characters n\n",
    "\n",
    "print(\"I have a \\n new line in the middle\")"
   ]
  },
  {
   "cell_type": "code",
   "execution_count": 43,
   "metadata": {},
   "outputs": [
    {
     "name": "stdout",
     "output_type": "stream",
     "text": [
      "This sentence is \ttabbed!\n"
     ]
    }
   ],
   "source": [
    "# Special character t\n",
    "\n",
    "print(\"This sentence is \\ttabbed!\")"
   ]
  },
  {
   "cell_type": "code",
   "execution_count": 44,
   "metadata": {},
   "outputs": [
    {
     "name": "stdout",
     "output_type": "stream",
     "text": [
      "This is a backslash \\\n"
     ]
    }
   ],
   "source": [
    "# Special character \\\n",
    "\n",
    "print(\"This is a backslash \\\\\")"
   ]
  },
  {
   "cell_type": "markdown",
   "metadata": {},
   "source": [
    "## Python Alpha 400a"
   ]
  },
  {
   "cell_type": "code",
   "execution_count": 48,
   "metadata": {},
   "outputs": [
    {
     "name": "stdout",
     "output_type": "stream",
     "text": [
      "0\n",
      "1\n",
      "2\n",
      "3\n",
      "4\n"
     ]
    }
   ],
   "source": [
    "# range\n",
    "\n",
    "for number in range(5):\n",
    "    print(number)"
   ]
  },
  {
   "cell_type": "code",
   "execution_count": 50,
   "metadata": {},
   "outputs": [
    {
     "name": "stdout",
     "output_type": "stream",
     "text": [
      "one\n",
      "two\n",
      "three\n"
     ]
    }
   ],
   "source": [
    "# Example\n",
    "\n",
    "a_dict = {\"one\":1, \"two\":2, \"three\":3}\n",
    "for key in a_dict:\n",
    "    print(key)"
   ]
  },
  {
   "cell_type": "code",
   "execution_count": 51,
   "metadata": {},
   "outputs": [
    {
     "name": "stdout",
     "output_type": "stream",
     "text": [
      "1\n",
      "2\n",
      "3\n"
     ]
    }
   ],
   "source": [
    "# Sorting\n",
    "\n",
    "a_dict = {1:\"one\", 2:\"two\", 3:\"three\"}\n",
    "keys = a_dict.keys()\n",
    "sorted(keys)\n",
    "for key in keys:\n",
    "    print(key)"
   ]
  },
  {
   "cell_type": "code",
   "execution_count": 54,
   "metadata": {},
   "outputs": [
    {
     "name": "stdout",
     "output_type": "stream",
     "text": [
      "0\n",
      "2\n",
      "4\n",
      "6\n",
      "8\n"
     ]
    }
   ],
   "source": [
    "# A more Complex for example\n",
    "\n",
    "for number in range(10):\n",
    "    if number % 2 == 0:\n",
    "        print(number)"
   ]
  },
  {
   "cell_type": "code",
   "execution_count": null,
   "metadata": {},
   "outputs": [],
   "source": [
    "# The while loop Example\n",
    "\n",
    "i = 10\n",
    "while i < 10:\n",
    "    print(i)\n",
    "    \n",
    "# if we put any number number except 10 then loop will be infinite"
   ]
  },
  {
   "cell_type": "markdown",
   "metadata": {},
   "source": [
    "## Python Alpha 400b"
   ]
  },
  {
   "cell_type": "code",
   "execution_count": null,
   "metadata": {},
   "outputs": [],
   "source": [
    "# While loop example\n",
    "\n",
    "i = 0\n",
    "while i < 10:\n",
    "    print(i)\n",
    "    i = i+1\n",
    "    \n",
    "# it will run on Python Interpreter"
   ]
  },
  {
   "cell_type": "code",
   "execution_count": null,
   "metadata": {},
   "outputs": [],
   "source": [
    "# While example with break\n",
    "\n",
    "i = 0\n",
    "while i < 10:\n",
    "    print(i)\n",
    "    if i == 5:\n",
    "        break\n",
    "    i += 1\n",
    "\n",
    "# it will run on Python Interpreter"
   ]
  },
  {
   "cell_type": "code",
   "execution_count": null,
   "metadata": {},
   "outputs": [],
   "source": [
    "# while loop example with flow control \n",
    "\n",
    "i=0 \n",
    "while i<10: \n",
    "    if i==3: \n",
    "        i+=1 \n",
    "        continue\n",
    "        \n",
    "        print(i) \n",
    "        if i==5: \n",
    "            break \n",
    "            i+=1\n",
    "            \n",
    "# it will run on Python Interpreter"
   ]
  },
  {
   "cell_type": "code",
   "execution_count": 2,
   "metadata": {},
   "outputs": [
    {
     "name": "stdout",
     "output_type": "stream",
     "text": [
      "Items found!\n"
     ]
    }
   ],
   "source": [
    "# What else is for in loops complex example\n",
    "\n",
    "my_list = [1, 2, 3, 4, 5] \n",
    "for i in my_list: \n",
    "    if i==3: \n",
    "        print(\"Items found!\") \n",
    "        break \n",
    "        \n",
    "else: \n",
    "    print(i) \n",
    "    print(\"Item not found!\")"
   ]
  },
  {
   "cell_type": "code",
   "execution_count": 1,
   "metadata": {},
   "outputs": [
    {
     "name": "stdout",
     "output_type": "stream",
     "text": [
      "5\n",
      "Item not found!\n"
     ]
    }
   ],
   "source": [
    "# What else is for in loops complex example\n",
    "\n",
    "my_list = [1, 2, 3, 4, 5] \n",
    "for i in my_list: \n",
    "    if i==10: \n",
    "        print(\"Items found!\") \n",
    "        break \n",
    "        \n",
    "else: \n",
    "    print(i) \n",
    "    print(\"Item not found!\")"
   ]
  },
  {
   "cell_type": "markdown",
   "metadata": {},
   "source": [
    "## Python Alpha 500"
   ]
  },
  {
   "cell_type": "code",
   "execution_count": 3,
   "metadata": {},
   "outputs": [
    {
     "name": "stdout",
     "output_type": "stream",
     "text": [
      "[0, 1, 2, 3, 4]\n"
     ]
    }
   ],
   "source": [
    "# List comprehensions in one word\n",
    "\n",
    "x = [i for i in range(5)] \n",
    "print(x)"
   ]
  },
  {
   "cell_type": "code",
   "execution_count": 5,
   "metadata": {},
   "outputs": [
    {
     "name": "stdout",
     "output_type": "stream",
     "text": [
      "[1, 2, 3, 4, 5]\n"
     ]
    }
   ],
   "source": [
    "# Casting strings into integers \n",
    "\n",
    "x = ['1', '2', '3', '4', '5'] \n",
    "y = [int(i) for i in x] \n",
    "print(y)"
   ]
  },
  {
   "cell_type": "code",
   "execution_count": 6,
   "metadata": {},
   "outputs": [
    {
     "name": "stdout",
     "output_type": "stream",
     "text": [
      "{0: '0', 1: '1', 2: '2', 3: '3', 4: '4'}\n"
     ]
    }
   ],
   "source": [
    "# Dictionary Comprehensions examples\n",
    "\n",
    "print( {i: str(i) for i in range(5)} )"
   ]
  },
  {
   "cell_type": "code",
   "execution_count": 7,
   "metadata": {},
   "outputs": [
    {
     "name": "stdout",
     "output_type": "stream",
     "text": [
      "{'dog': 1, 'cat': 2, 'horse': 3}\n"
     ]
    }
   ],
   "source": [
    "# Dictionary Comprehensions example continued…\n",
    "\n",
    "my_dict = {1:\"dog\", 2:\"cat\", 3:\"horse\"} \n",
    "print( {value:key for key, value in my_dict.items()} )"
   ]
  },
  {
   "cell_type": "code",
   "execution_count": 8,
   "metadata": {},
   "outputs": [
    {
     "name": "stdout",
     "output_type": "stream",
     "text": [
      "{1, 2, 3, 4, 5, 7, 8}\n"
     ]
    }
   ],
   "source": [
    "# Set Comprehensions, It removes duplicates\n",
    "\n",
    "my_list = [1, 2, 2, 3, 4, 5, 5, 7, 8] \n",
    "my_set = set(my_list) \n",
    "print(my_set)"
   ]
  },
  {
   "cell_type": "code",
   "execution_count": 9,
   "metadata": {},
   "outputs": [
    {
     "name": "stdout",
     "output_type": "stream",
     "text": [
      "{1, 2, 3, 4, 5, 7, 8}\n"
     ]
    }
   ],
   "source": [
    "# Another set example\n",
    "\n",
    "my_list = [1, 2, 2, 3, 4, 5, 5, 7, 8] \n",
    "my_set = {x for x in my_list} \n",
    "print(my_set)"
   ]
  },
  {
   "cell_type": "markdown",
   "metadata": {},
   "source": [
    "## Python Alpha 500 Easy Version"
   ]
  },
  {
   "cell_type": "code",
   "execution_count": 11,
   "metadata": {},
   "outputs": [
    {
     "name": "stdout",
     "output_type": "stream",
     "text": [
      "['p', 'a', 'k', 'i', 's', 't', 'a', 'n']\n"
     ]
    }
   ],
   "source": [
    "# Without Comprehension List\n",
    "\n",
    "mystring = 'pakistan' \n",
    "mylist = [] \n",
    "for letter in mystring: \n",
    "    mylist.append(letter) \n",
    "print(mylist)"
   ]
  },
  {
   "cell_type": "code",
   "execution_count": 12,
   "metadata": {},
   "outputs": [
    {
     "name": "stdout",
     "output_type": "stream",
     "text": [
      "['p', 'a', 'k', 'i', 's', 't', 'a', 'n']\n"
     ]
    }
   ],
   "source": [
    "# List Comprehension\n",
    "\n",
    "string = 'pakistan' \n",
    "mylist = [letter for letter in mystring] \n",
    "print(mylist)"
   ]
  },
  {
   "cell_type": "code",
   "execution_count": 13,
   "metadata": {},
   "outputs": [
    {
     "name": "stdout",
     "output_type": "stream",
     "text": [
      "['w', 'o', 'r', 'd']\n"
     ]
    }
   ],
   "source": [
    "# Another list comprehension example!\n",
    "\n",
    "mylist=[x for x in 'word'] \n",
    "print(mylist)"
   ]
  },
  {
   "cell_type": "code",
   "execution_count": 14,
   "metadata": {},
   "outputs": [
    {
     "name": "stdout",
     "output_type": "stream",
     "text": [
      "['w', 'o', 'r', 'd']\n"
     ]
    }
   ],
   "source": [
    "# Another list comprehension example!\n",
    "\n",
    "mylist=[Manzar for Manzar in 'word'] \n",
    "print(mylist)"
   ]
  },
  {
   "cell_type": "code",
   "execution_count": 15,
   "metadata": {},
   "outputs": [
    {
     "name": "stdout",
     "output_type": "stream",
     "text": [
      "[0, 1, 2, 3, 4, 5, 6, 7, 8, 9, 10]\n"
     ]
    }
   ],
   "source": [
    "# More examples!\n",
    "\n",
    "mylist = [x for x in range(0,11)] \n",
    "print(mylist)"
   ]
  },
  {
   "cell_type": "markdown",
   "metadata": {},
   "source": [
    "## Python Alpha 600a"
   ]
  },
  {
   "cell_type": "markdown",
   "metadata": {},
   "source": [
    "## Python Alpha 600b"
   ]
  },
  {
   "cell_type": "code",
   "execution_count": 1,
   "metadata": {},
   "outputs": [
    {
     "name": "stdout",
     "output_type": "stream",
     "text": [
      "You cannot divide by zero!\n"
     ]
    }
   ],
   "source": [
    "# Catching errors  with try and except\n",
    "\n",
    "try: \n",
    "    1/0 \n",
    "    \n",
    "except ZeroDivisionError: \n",
    "    print(\"You cannot divide by zero!\")"
   ]
  },
  {
   "cell_type": "code",
   "execution_count": 2,
   "metadata": {},
   "outputs": [
    {
     "name": "stdout",
     "output_type": "stream",
     "text": [
      "You cannot divide by zero!\n"
     ]
    }
   ],
   "source": [
    "# Bare excepts\n",
    "\n",
    "try: \n",
    "    1/0 \n",
    "    \n",
    "except: \n",
    "    print(\"You cannot divide by zero!\")"
   ]
  },
  {
   "cell_type": "code",
   "execution_count": 3,
   "metadata": {},
   "outputs": [
    {
     "name": "stdout",
     "output_type": "stream",
     "text": [
      "That key does not exist!\n"
     ]
    }
   ],
   "source": [
    "# Dictionary example\n",
    "\n",
    "my_dict = {\"a\":1, \"b\":2, \"c\":3} \n",
    "try:\n",
    "    value = my_dict[\"d\"] \n",
    "    \n",
    "except KeyError: \n",
    "    print(\"That key does not exist!\")"
   ]
  },
  {
   "cell_type": "code",
   "execution_count": 4,
   "metadata": {},
   "outputs": [
    {
     "name": "stdout",
     "output_type": "stream",
     "text": [
      "That index is not in the list!\n"
     ]
    }
   ],
   "source": [
    "# List error message\n",
    "\n",
    "my_list = [1, 2, 3, 4, 5] \n",
    "try: \n",
    "    my_list[6] \n",
    "    \n",
    "except IndexError:\n",
    "    print(\"That index is not in the list!\")"
   ]
  },
  {
   "cell_type": "code",
   "execution_count": 5,
   "metadata": {},
   "outputs": [
    {
     "name": "stdout",
     "output_type": "stream",
     "text": [
      "This key is not in the dictionary!\n"
     ]
    }
   ],
   "source": [
    "# Catching multiple exceptions\n",
    "\n",
    "my_dict = {\"a\":1, \"b\":2, \"c\":3} \n",
    "try: \n",
    "    value = my_dict[\"d\"] \n",
    "    \n",
    "except IndexError: \n",
    "    print(\"This index does not exist!\") \n",
    "    \n",
    "except KeyError: \n",
    "    print(\"This key is not in the dictionary!\") \n",
    "    \n",
    "except: \n",
    "    print(\"Some other error occurred!\")"
   ]
  },
  {
   "cell_type": "code",
   "execution_count": 6,
   "metadata": {},
   "outputs": [
    {
     "name": "stdout",
     "output_type": "stream",
     "text": [
      "An IndexError or KeyError occurred!\n"
     ]
    }
   ],
   "source": [
    "# Can we use () or Parenthesis \n",
    "\n",
    "try: \n",
    "    value = my_dict[\"d\"] \n",
    "    \n",
    "except (IndexError, KeyError): \n",
    "    print(\"An IndexError or KeyError occurred!\")"
   ]
  },
  {
   "cell_type": "markdown",
   "metadata": {},
   "source": [
    "# Python Alpha 600c"
   ]
  },
  {
   "cell_type": "code",
   "execution_count": 7,
   "metadata": {},
   "outputs": [
    {
     "name": "stdout",
     "output_type": "stream",
     "text": [
      "A KeyError occurred!\n",
      "The finally statement has executed!\n"
     ]
    }
   ],
   "source": [
    "# An example for finally\n",
    "\n",
    "my_dict = {\"a\":1, \"b\":2, \"c\":3} \n",
    "\n",
    "try: \n",
    "    value = my_dict[\"d\"] \n",
    "    \n",
    "except KeyError: \n",
    "    print(\"A KeyError occurred!\") \n",
    "    \n",
    "finally: \n",
    "    print(\"The finally statement has executed!\")"
   ]
  },
  {
   "cell_type": "code",
   "execution_count": 8,
   "metadata": {},
   "outputs": [
    {
     "name": "stdout",
     "output_type": "stream",
     "text": [
      "No error occured!\n"
     ]
    }
   ],
   "source": [
    "# Example for else for handling exceptions\n",
    "\n",
    "dict = {\"a\":1, \"b\":2, \"c\":3} \n",
    "\n",
    "try: \n",
    "    value = dict[\"a\"]\n",
    "    \n",
    "except KeyError: \n",
    "    print(\"A KeyError occured!\") \n",
    "    \n",
    "else:\n",
    "    print(\"No error occured!\")"
   ]
  },
  {
   "cell_type": "code",
   "execution_count": 9,
   "metadata": {},
   "outputs": [
    {
     "name": "stdout",
     "output_type": "stream",
     "text": [
      "No error occured!\n",
      "The finally statement ran!\n"
     ]
    }
   ],
   "source": [
    "# Bring it all together try, except, else and finally\n",
    "\n",
    "dict = {\"a\":1, \"b\":2, \"c\":3} \n",
    "\n",
    "try: \n",
    "    value = dict[\"a\"] \n",
    "    \n",
    "except KeyError: \n",
    "    print(\"A KeyError occured!\") \n",
    "    \n",
    "else: \n",
    "    print(\"No error occured!\") \n",
    "    \n",
    "finally: \n",
    "    print(\"The finally statement ran!\")"
   ]
  },
  {
   "cell_type": "markdown",
   "metadata": {},
   "source": [
    "## Python Alpha 600c Assignment"
   ]
  },
  {
   "cell_type": "code",
   "execution_count": 14,
   "metadata": {},
   "outputs": [
    {
     "name": "stdout",
     "output_type": "stream",
     "text": [
      "What is your name? \n",
      "Manzar\n",
      "How old are you? \n",
      "20\n",
      "Manzar will be 100 years old in the year 2100\n"
     ]
    }
   ],
   "source": [
    "# Create a program which ask for your age, name and then print your name and age along with saying that you will be \n",
    "# 100 years old in what year.\n",
    "\n",
    "from datetime import datetime\n",
    "name = input('What is your name? \\n')\n",
    "age = int(input('How old are you? \\n'))\n",
    "year = str(int((100-age) + datetime.now().year))\n",
    "print(name + \" \" + \"will be 100 years old in the year\" + \" \" + year)"
   ]
  },
  {
   "cell_type": "markdown",
   "metadata": {},
   "source": [
    "## Python Alpha 700a"
   ]
  },
  {
   "cell_type": "code",
   "execution_count": 15,
   "metadata": {},
   "outputs": [],
   "source": [
    "# Just read\n",
    "\n",
    "x = open(r\"D:\\test.txt\",\"r\")"
   ]
  },
  {
   "cell_type": "code",
   "execution_count": 18,
   "metadata": {},
   "outputs": [
    {
     "name": "stdout",
     "output_type": "stream",
     "text": [
      "D:\test.txt\n"
     ]
    }
   ],
   "source": [
    "# if we don't use regular string then special character will be print\n",
    "\n",
    "print(\"D:\\test.txt\")"
   ]
  },
  {
   "cell_type": "code",
   "execution_count": 19,
   "metadata": {},
   "outputs": [
    {
     "name": "stdout",
     "output_type": "stream",
     "text": [
      "D:\\test.txt\n"
     ]
    }
   ],
   "source": [
    "# if we use regular string then it will print filePath\n",
    "\n",
    "print(r\"D:\\test.txt\")"
   ]
  },
  {
   "cell_type": "code",
   "execution_count": 20,
   "metadata": {},
   "outputs": [
    {
     "name": "stdout",
     "output_type": "stream",
     "text": [
      "this is my test file to check how things really work in python\n",
      "\n",
      "Manzar\n",
      "\n",
      "Hashim\n",
      "\n",
      "Sami\n"
     ]
    }
   ],
   "source": [
    "# Reading a file and see the data\n",
    "\n",
    "x = open(r\"D:\\test.txt\",\"r\")\n",
    "data = x.read()\n",
    "print(data)\n",
    "x.close()"
   ]
  },
  {
   "cell_type": "code",
   "execution_count": 21,
   "metadata": {},
   "outputs": [
    {
     "name": "stdout",
     "output_type": "stream",
     "text": [
      "['this is my test file to check how things really work in python\\n', '\\n', 'Manzar\\n', '\\n', 'Hashim\\n', '\\n', 'Sami']\n"
     ]
    }
   ],
   "source": [
    "# readlines will print like a list\n",
    "# Reading all the lines\n",
    "\n",
    "x = open(r\"D:\\test.txt\",\"r\")\n",
    "data = x.readlines()\n",
    "print(data)\n",
    "x.close()"
   ]
  },
  {
   "cell_type": "code",
   "execution_count": 23,
   "metadata": {},
   "outputs": [
    {
     "name": "stdout",
     "output_type": "stream",
     "text": [
      "this is my test file to check how things really work in python\n",
      "\n"
     ]
    }
   ],
   "source": [
    "# Reading a line in the file\n",
    "\n",
    "x = open(r\"D:\\test.txt\",\"r\") \n",
    "data = x.readline() \n",
    "print(data) \n",
    "x.close()"
   ]
  },
  {
   "cell_type": "code",
   "execution_count": 24,
   "metadata": {},
   "outputs": [
    {
     "name": "stdout",
     "output_type": "stream",
     "text": [
      "this is my test file to check how things really work in python\n",
      "\n",
      "\n",
      "\n",
      "Manzar\n",
      "\n",
      "\n",
      "\n",
      "Hashim\n",
      "\n",
      "\n",
      "\n",
      "Sami\n"
     ]
    }
   ],
   "source": [
    "# Reading files piece by piece OR Line by line\n",
    "\n",
    "x = open(r\"D:\\test.txt\",\"r\") \n",
    "for line in x: \n",
    "    print(line) \n",
    "    \n",
    "x.close()"
   ]
  },
  {
   "cell_type": "markdown",
   "metadata": {},
   "source": [
    "## Python Alpha 700b"
   ]
  },
  {
   "cell_type": "code",
   "execution_count": 25,
   "metadata": {},
   "outputs": [],
   "source": [
    "# Writing Files in Python\n",
    "\n",
    "x = open(r\"D:\\test.txt\",\"w\") \n",
    "x.write(\"This is another line\") \n",
    "x.close()\n",
    "\n",
    "# it will change given notepad file"
   ]
  },
  {
   "cell_type": "markdown",
   "metadata": {},
   "source": [
    "## Python Alpha 800"
   ]
  },
  {
   "cell_type": "code",
   "execution_count": 26,
   "metadata": {},
   "outputs": [
    {
     "name": "stdout",
     "output_type": "stream",
     "text": [
      "The Zen of Python, by Tim Peters\n",
      "\n",
      "Beautiful is better than ugly.\n",
      "Explicit is better than implicit.\n",
      "Simple is better than complex.\n",
      "Complex is better than complicated.\n",
      "Flat is better than nested.\n",
      "Sparse is better than dense.\n",
      "Readability counts.\n",
      "Special cases aren't special enough to break the rules.\n",
      "Although practicality beats purity.\n",
      "Errors should never pass silently.\n",
      "Unless explicitly silenced.\n",
      "In the face of ambiguity, refuse the temptation to guess.\n",
      "There should be one-- and preferably only one --obvious way to do it.\n",
      "Although that way may not be obvious at first unless you're Dutch.\n",
      "Now is better than never.\n",
      "Although never is often better than *right* now.\n",
      "If the implementation is hard to explain, it's a bad idea.\n",
      "If the implementation is easy to explain, it may be a good idea.\n",
      "Namespaces are one honking great idea -- let's do more of those!\n"
     ]
    }
   ],
   "source": [
    "# Import this\n",
    "\n",
    "import this"
   ]
  },
  {
   "cell_type": "code",
   "execution_count": 27,
   "metadata": {},
   "outputs": [
    {
     "name": "stdout",
     "output_type": "stream",
     "text": [
      "2.0\n"
     ]
    }
   ],
   "source": [
    "# math module\n",
    "\n",
    "import math\n",
    "print(math.sqrt(4))"
   ]
  },
  {
   "cell_type": "markdown",
   "metadata": {},
   "source": [
    "## Python Alpha 800b"
   ]
  },
  {
   "cell_type": "code",
   "execution_count": 28,
   "metadata": {},
   "outputs": [
    {
     "name": "stdout",
     "output_type": "stream",
     "text": [
      "4.0\n"
     ]
    }
   ],
   "source": [
    "# Using from to import\n",
    "# Another way to import a function is to use from\n",
    "\n",
    "from math import sqrt \n",
    "print(sqrt(16))"
   ]
  },
  {
   "cell_type": "code",
   "execution_count": 29,
   "metadata": {},
   "outputs": [
    {
     "name": "stdout",
     "output_type": "stream",
     "text": [
      "3.141592653589793\n"
     ]
    }
   ],
   "source": [
    "# Importing multiple functions \n",
    "\n",
    "from math import pi, sqrt\n",
    "print(pi)"
   ]
  },
  {
   "cell_type": "code",
   "execution_count": 30,
   "metadata": {},
   "outputs": [],
   "source": [
    "# Import everything!\n",
    "\n",
    "from math import*"
   ]
  },
  {
   "cell_type": "markdown",
   "metadata": {},
   "source": [
    "## Python Alpha 900"
   ]
  },
  {
   "cell_type": "code",
   "execution_count": 31,
   "metadata": {},
   "outputs": [
    {
     "name": "stdout",
     "output_type": "stream",
     "text": [
      "we just created a function!\n"
     ]
    }
   ],
   "source": [
    "# Functions in Python\n",
    "\n",
    "def a_function(): \n",
    "    print(\"we just created a function!\")\n",
    "    \n",
    "a_function()"
   ]
  },
  {
   "cell_type": "code",
   "execution_count": 32,
   "metadata": {},
   "outputs": [
    {
     "data": {
      "text/plain": [
       "3"
      ]
     },
     "execution_count": 32,
     "metadata": {},
     "output_type": "execute_result"
    }
   ],
   "source": [
    "# Now adding arguments to a function\n",
    "\n",
    "def add(a,b): \n",
    "    return a + b\n",
    "\n",
    "add(1,2)"
   ]
  },
  {
   "cell_type": "code",
   "execution_count": 33,
   "metadata": {},
   "outputs": [
    {
     "name": "stdout",
     "output_type": "stream",
     "text": [
      "9\n"
     ]
    }
   ],
   "source": [
    "# More Examples\n",
    "\n",
    "add(a=2, b=3)\n",
    "total = add(b=4, a=5)\n",
    "print(total)"
   ]
  },
  {
   "cell_type": "markdown",
   "metadata": {},
   "source": [
    "## Python Alpha 900a"
   ]
  },
  {
   "cell_type": "code",
   "execution_count": 34,
   "metadata": {},
   "outputs": [
    {
     "data": {
      "text/plain": [
       "9"
      ]
     },
     "execution_count": 34,
     "metadata": {},
     "output_type": "execute_result"
    }
   ],
   "source": [
    "# Keyword Arguments\n",
    "\n",
    "def keyword_function(a=1 , b=2): \n",
    "    return a+b\n",
    "\n",
    "keyword_function(b=4, a=5)"
   ]
  },
  {
   "cell_type": "code",
   "execution_count": 35,
   "metadata": {},
   "outputs": [
    {
     "data": {
      "text/plain": [
       "3"
      ]
     },
     "execution_count": 35,
     "metadata": {},
     "output_type": "execute_result"
    }
   ],
   "source": [
    "# Default argument keyword!\n",
    "\n",
    "def keyword_function(a=1 , b=2): \n",
    "    return a+b\n",
    "\n",
    "keyword_function()"
   ]
  },
  {
   "cell_type": "code",
   "execution_count": 36,
   "metadata": {},
   "outputs": [
    {
     "data": {
      "text/plain": [
       "10"
      ]
     },
     "execution_count": 36,
     "metadata": {},
     "output_type": "execute_result"
    }
   ],
   "source": [
    "# Mixed functions \n",
    "\n",
    "def mixed_function(a, b=2, c=3): \n",
    "    return a+b+c\n",
    "\n",
    "mixed_function(1, b=4, c=5)"
   ]
  },
  {
   "cell_type": "code",
   "execution_count": 37,
   "metadata": {},
   "outputs": [
    {
     "data": {
      "text/plain": [
       "6"
      ]
     },
     "execution_count": 37,
     "metadata": {},
     "output_type": "execute_result"
    }
   ],
   "source": [
    "# Mixed functions \n",
    "\n",
    "def mixed_function(a, b=2, c=3): \n",
    "    return a+b+c\n",
    "\n",
    "mixed_function(1)"
   ]
  },
  {
   "cell_type": "markdown",
   "metadata": {},
   "source": [
    "## Python Alpha 900b"
   ]
  },
  {
   "cell_type": "code",
   "execution_count": 39,
   "metadata": {},
   "outputs": [
    {
     "name": "stdout",
     "output_type": "stream",
     "text": [
      "(1, 2, 3)\n",
      "{'name': 'Manzar', 'job': 'Cyber Warrior'}\n"
     ]
    }
   ],
   "source": [
    "# Infinite arguments and keyword arguments using * and ** \n",
    "\n",
    "def many(*args, **kwargs): \n",
    "    print(args) \n",
    "    print(kwargs)\n",
    "    \n",
    "many(1,2,3, name=\"Manzar\" ,  job=\"Cyber Warrior\")"
   ]
  },
  {
   "cell_type": "code",
   "execution_count": 41,
   "metadata": {},
   "outputs": [
    {
     "name": "stdout",
     "output_type": "stream",
     "text": [
      "3\n",
      "7\n"
     ]
    }
   ],
   "source": [
    "# Examples of scope and global\n",
    "\n",
    "def function_a(): \n",
    "    a = 1 \n",
    "    b = 2 \n",
    "    return a+b\n",
    "\n",
    "def function_b():\n",
    "    a = 4         # Here, if we don't give value of a then it will be an error\n",
    "    c = 3 \n",
    "    return a+c\n",
    "print(function_a()) \n",
    "print(function_b())"
   ]
  },
  {
   "cell_type": "code",
   "execution_count": 42,
   "metadata": {},
   "outputs": [
    {
     "name": "stdout",
     "output_type": "stream",
     "text": [
      "3\n",
      "4\n"
     ]
    }
   ],
   "source": [
    "# Examples continued\n",
    "\n",
    "def function_a(): \n",
    "    global a     # because of this, the value of 'a' is global\n",
    "    a = 1 \n",
    "    b = 2 \n",
    "    return a+b\n",
    "\n",
    "def function_b(): \n",
    "    c=3         # above function (value of a)\n",
    "    return a+c\n",
    "\n",
    "print(function_a()) \n",
    "print(function_b())"
   ]
  },
  {
   "cell_type": "markdown",
   "metadata": {},
   "source": [
    "## Python Alpha 1000a"
   ]
  },
  {
   "cell_type": "code",
   "execution_count": 51,
   "metadata": {},
   "outputs": [
    {
     "data": {
      "text/plain": [
       "['__add__',\n",
       " '__class__',\n",
       " '__contains__',\n",
       " '__delattr__',\n",
       " '__dir__',\n",
       " '__doc__',\n",
       " '__eq__',\n",
       " '__format__',\n",
       " '__ge__',\n",
       " '__getattribute__',\n",
       " '__getitem__',\n",
       " '__getnewargs__',\n",
       " '__gt__',\n",
       " '__hash__',\n",
       " '__init__',\n",
       " '__init_subclass__',\n",
       " '__iter__',\n",
       " '__le__',\n",
       " '__len__',\n",
       " '__lt__',\n",
       " '__mod__',\n",
       " '__mul__',\n",
       " '__ne__',\n",
       " '__new__',\n",
       " '__reduce__',\n",
       " '__reduce_ex__',\n",
       " '__repr__',\n",
       " '__rmod__',\n",
       " '__rmul__',\n",
       " '__setattr__',\n",
       " '__sizeof__',\n",
       " '__str__',\n",
       " '__subclasshook__',\n",
       " 'capitalize',\n",
       " 'casefold',\n",
       " 'center',\n",
       " 'count',\n",
       " 'encode',\n",
       " 'endswith',\n",
       " 'expandtabs',\n",
       " 'find',\n",
       " 'format',\n",
       " 'format_map',\n",
       " 'index',\n",
       " 'isalnum',\n",
       " 'isalpha',\n",
       " 'isascii',\n",
       " 'isdecimal',\n",
       " 'isdigit',\n",
       " 'isidentifier',\n",
       " 'islower',\n",
       " 'isnumeric',\n",
       " 'isprintable',\n",
       " 'isspace',\n",
       " 'istitle',\n",
       " 'isupper',\n",
       " 'join',\n",
       " 'ljust',\n",
       " 'lower',\n",
       " 'lstrip',\n",
       " 'maketrans',\n",
       " 'partition',\n",
       " 'replace',\n",
       " 'rfind',\n",
       " 'rindex',\n",
       " 'rjust',\n",
       " 'rpartition',\n",
       " 'rsplit',\n",
       " 'rstrip',\n",
       " 'split',\n",
       " 'splitlines',\n",
       " 'startswith',\n",
       " 'strip',\n",
       " 'swapcase',\n",
       " 'title',\n",
       " 'translate',\n",
       " 'upper',\n",
       " 'zfill']"
      ]
     },
     "execution_count": 51,
     "metadata": {},
     "output_type": "execute_result"
    }
   ],
   "source": [
    "# Classes\n",
    "\n",
    "x = \"alnafi\"\n",
    "dir(x)"
   ]
  },
  {
   "cell_type": "code",
   "execution_count": 53,
   "metadata": {},
   "outputs": [],
   "source": [
    "# Creating a class in python \n",
    "\n",
    "class Vehicle(object): \n",
    "    \"\"\"docstring\"\"\" \n",
    "    def __init__(self, color, doors, tires): \n",
    "        \"\"\"Constructor\"\"\"\n",
    "        self.color = colors\n",
    "        self.doors = doors\n",
    "        self.tires = tires\n",
    "        \n",
    "    def brake(self):\n",
    "        \"\"\"\n",
    "        stop the car\n",
    "        \"\"\"\n",
    "        return \"Braking\"\n",
    "    \n",
    "    def drive(self):\n",
    "        \"\"\"\n",
    "        drive the car\n",
    "        \"\"\"\n",
    "        return \"I'm driving!\""
   ]
  },
  {
   "cell_type": "code",
   "execution_count": null,
   "metadata": {},
   "outputs": [],
   "source": []
  }
 ],
 "metadata": {
  "kernelspec": {
   "display_name": "Python 3",
   "language": "python",
   "name": "python3"
  },
  "language_info": {
   "codemirror_mode": {
    "name": "ipython",
    "version": 3
   },
   "file_extension": ".py",
   "mimetype": "text/x-python",
   "name": "python",
   "nbconvert_exporter": "python",
   "pygments_lexer": "ipython3",
   "version": "3.7.4"
  }
 },
 "nbformat": 4,
 "nbformat_minor": 2
}
